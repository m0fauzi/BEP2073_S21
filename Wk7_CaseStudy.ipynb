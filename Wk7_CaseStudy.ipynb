{
  "nbformat": 4,
  "nbformat_minor": 0,
  "metadata": {
    "colab": {
      "name": "CaseStudy.ipynb",
      "provenance": [],
      "authorship_tag": "ABX9TyMxvwO8QqnTr/UByurudzXd",
      "include_colab_link": true
    },
    "kernelspec": {
      "name": "python3",
      "display_name": "Python 3"
    },
    "language_info": {
      "name": "python"
    }
  },
  "cells": [
    {
      "cell_type": "markdown",
      "metadata": {
        "id": "view-in-github",
        "colab_type": "text"
      },
      "source": [
        "<a href=\"https://colab.research.google.com/github/m0fauzi/BEP2073_S21/blob/main/Wk7_CaseStudy.ipynb\" target=\"_parent\"><img src=\"https://colab.research.google.com/assets/colab-badge.svg\" alt=\"Open In Colab\"/></a>"
      ]
    },
    {
      "cell_type": "code",
      "metadata": {
        "id": "yQ7zHI_ZhPlg"
      },
      "source": [
        "import numpy as np\n",
        "import matplotlib.pyplot as plt\n",
        "\n",
        "r,L = 2,5 \n",
        "#let \n",
        "hData = np.linspace(0,10,100)\n",
        "Xdata,Ydata=[],[]\n",
        "\n",
        "for h in hData:\n",
        "  V = (((r**2)*np.cos((r-h)/r)**(-1))-((r-h)*np.sqrt((2*r*h)-(h**2))))*L\n",
        "  Ydata.append(V)\n",
        "  Xdata.append(h)\n",
        "  print('For h = %0.3f; V = %0.5f'%(h,V))\n",
        "\n",
        "plt.plot(Xdata,Ydata)\n"
      ],
      "execution_count": null,
      "outputs": []
    },
    {
      "cell_type": "code",
      "metadata": {
        "colab": {
          "base_uri": "https://localhost:8080/"
        },
        "id": "Q5gZWMpClm4u",
        "outputId": "ffe75f09-e266-44a7-effa-3c1eab62ea4a"
      },
      "source": [
        "#5x10^-3\n",
        "5e-3"
      ],
      "execution_count": 11,
      "outputs": [
        {
          "output_type": "execute_result",
          "data": {
            "text/plain": [
              "0.005"
            ]
          },
          "metadata": {},
          "execution_count": 11
        }
      ]
    },
    {
      "cell_type": "code",
      "metadata": {
        "colab": {
          "base_uri": "https://localhost:8080/"
        },
        "id": "Q-7-29O1oWE9",
        "outputId": "0583a386-1bcb-4643-afdf-2ed8f8e9979c"
      },
      "source": [
        "import numpy as np\n",
        "\n",
        "rhop=1800\n",
        "Dp=0.208e-3\n",
        "rho=994.6\n",
        "u=8.931*10\n",
        "g=9.81\n",
        "#Let\n",
        "Re = 1\n",
        "count=0\n",
        "while(True):\n",
        "  #Cd = f(Re)\n",
        "  if Re<0.1:\n",
        "    Cd=24/Re\n",
        "  elif Re>=0.1 and Re<1000:\n",
        "    Cd = 24/Re*(0.14*Re**0.7)\n",
        "  elif  Re>=1000 and Re<350000:\n",
        "    Cd = 0.44\n",
        "  elif Re >= 350000:\n",
        "    Cd = 0.19-8e4/Re\n",
        "\n",
        "  Vt = np.sqrt(4*g*(rhop-rho)*Dp/(3*Cd*rho))\n",
        "  Re_hat = Dp*Vt/u\n",
        "  e = Re - Re_hat\n",
        "\n",
        "  if (e>0):\n",
        "    Re = Re + Re/2\n",
        "  elif (e<0):\n",
        "    Re = Re - Re/2\n",
        "  else:\n",
        "    break\n",
        "\n",
        "  if(count>500):\n",
        "    break\n",
        "  count+=1\n",
        "\n",
        "print(e) # Target to find smallest e possible\n"
      ],
      "execution_count": 28,
      "outputs": [
        {
          "output_type": "stream",
          "name": "stdout",
          "text": [
            "1.666175663919892e+88\n"
          ]
        }
      ]
    },
    {
      "cell_type": "code",
      "metadata": {
        "colab": {
          "base_uri": "https://localhost:8080/"
        },
        "id": "f78tBsZ5slhr",
        "outputId": "7e7c0409-f263-4832-fbdd-a854f01217aa"
      },
      "source": [
        "print(Re)\n",
        "if Re<0.1:\n",
        "    Cd=24/Re\n",
        "elif Re>=0.1 and Re<1000:\n",
        "    Cd = 24/Re*(0.14*Re**0.7)\n",
        "elif  Re>=1000 and Re<350000:\n",
        "    Cd = 0.44\n",
        "elif Re >= 350000:\n",
        "    Cd = 0.19-8e4/Re\n",
        "\n",
        "Vt = np.sqrt(4*g*(rhop-rho)*Dp/(3*Cd*rho))\n",
        "print('Vt = %0.5f'%Vt)"
      ],
      "execution_count": 24,
      "outputs": [
        {
          "output_type": "stream",
          "name": "stdout",
          "text": [
            "2.9984271260748832e-16\n",
            "Vt = 0.00000\n"
          ]
        }
      ]
    }
  ]
}