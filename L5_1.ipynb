{
  "nbformat": 4,
  "nbformat_minor": 0,
  "metadata": {
    "colab": {
      "name": "L5_1.ipynb",
      "provenance": [],
      "authorship_tag": "ABX9TyOaQ7qBOmbmsoY2u5LhBskJ",
      "include_colab_link": true
    },
    "kernelspec": {
      "name": "python3",
      "display_name": "Python 3"
    },
    "language_info": {
      "name": "python"
    }
  },
  "cells": [
    {
      "cell_type": "markdown",
      "metadata": {
        "id": "view-in-github",
        "colab_type": "text"
      },
      "source": [
        "<a href=\"https://colab.research.google.com/github/m0fauzi/BEP2073_S21/blob/main/L5_1.ipynb\" target=\"_parent\"><img src=\"https://colab.research.google.com/assets/colab-badge.svg\" alt=\"Open In Colab\"/></a>"
      ]
    },
    {
      "cell_type": "code",
      "metadata": {
        "id": "b7pKhu2Xqdg5"
      },
      "source": [
        "# f(x) = 3x + 1\n",
        "def f(x):\n",
        "  y = 3*x + 1\n",
        "  print(y)"
      ],
      "execution_count": 1,
      "outputs": []
    },
    {
      "cell_type": "code",
      "metadata": {
        "colab": {
          "base_uri": "https://localhost:8080/"
        },
        "id": "jqVmobS51cMp",
        "outputId": "aec9da97-1615-45cb-e85d-d6a37ea2fcbe"
      },
      "source": [
        "x = 2\n",
        "f(x)"
      ],
      "execution_count": 2,
      "outputs": [
        {
          "output_type": "stream",
          "name": "stdout",
          "text": [
            "7\n"
          ]
        }
      ]
    },
    {
      "cell_type": "code",
      "metadata": {
        "id": "gTcoZXu12SKx"
      },
      "source": [
        "# Defination\n",
        "import math\n",
        "def CA(r):\n",
        "  return math.pi*r**2"
      ],
      "execution_count": 8,
      "outputs": []
    },
    {
      "cell_type": "code",
      "metadata": {
        "colab": {
          "base_uri": "https://localhost:8080/"
        },
        "id": "3CIpJWs528BK",
        "outputId": "022afe8e-95f2-4641-ba9b-d82a00cdd5b0"
      },
      "source": [
        "#Invocation\n",
        "print(CA(2.5))"
      ],
      "execution_count": 9,
      "outputs": [
        {
          "output_type": "stream",
          "name": "stdout",
          "text": [
            "19.634954084936208\n"
          ]
        }
      ]
    },
    {
      "cell_type": "code",
      "metadata": {
        "colab": {
          "base_uri": "https://localhost:8080/"
        },
        "id": "tqepvWWu4u1a",
        "outputId": "17fd4934-6447-4ee4-de62-8e9cdac263a5"
      },
      "source": [
        "def f1(x,y):\n",
        "  return 3*x + y\n",
        "\n",
        "X = 1\n",
        "Y = 2\n",
        "print(f1(X,Y))\n",
        "\n",
        "X = 2\n",
        "Y = 2\n",
        "print(f1(X,Y))\n",
        "\n",
        "X = 3\n",
        "Y = 2\n",
        "print(f1(X,Y))"
      ],
      "execution_count": 13,
      "outputs": [
        {
          "output_type": "stream",
          "name": "stdout",
          "text": [
            "5\n",
            "8\n",
            "11\n"
          ]
        }
      ]
    },
    {
      "cell_type": "code",
      "metadata": {
        "colab": {
          "base_uri": "https://localhost:8080/"
        },
        "id": "X44uuIQ65aDR",
        "outputId": "af195ad9-c234-4801-c210-4be85d59af7a"
      },
      "source": [
        "def f1(x,y = 2):\n",
        "  return 3*x + y\n",
        "\n",
        "X = 1\n",
        "print(f1(X))\n",
        "\n",
        "X = 2\n",
        "print(f1(X))\n",
        "\n",
        "X = 3\n",
        "print(f1(X))\n",
        "\n",
        "X = 2\n",
        "Y = 18\n",
        "print(f1(X,Y))  # 3(2) + 18 = 24"
      ],
      "execution_count": 19,
      "outputs": [
        {
          "output_type": "stream",
          "name": "stdout",
          "text": [
            "5\n",
            "8\n",
            "11\n",
            "24\n"
          ]
        }
      ]
    },
    {
      "cell_type": "code",
      "metadata": {
        "id": "AgRUMS1X6l1Q"
      },
      "source": [
        "def CircleArea(r):\n",
        "       \"\"\"Assumes x is int or float,      \n",
        "            Returns float Area such that pi*r**2.\"\"\"\n",
        "       pi = 22/7\n",
        "       return pi*r**2"
      ],
      "execution_count": 21,
      "outputs": []
    },
    {
      "cell_type": "code",
      "metadata": {
        "colab": {
          "base_uri": "https://localhost:8080/"
        },
        "id": "9yrp_six7HVA",
        "outputId": "edf74029-e278-46ea-a566-750b2524a919"
      },
      "source": [
        "CircleArea"
      ],
      "execution_count": 22,
      "outputs": [
        {
          "output_type": "stream",
          "name": "stdout",
          "text": [
            "Help on function CircleArea in module __main__:\n",
            "\n",
            "CircleArea(r)\n",
            "    Assumes x is int or float,      \n",
            "    Returns float Area such that pi*r**2.\n",
            "\n"
          ]
        }
      ]
    },
    {
      "cell_type": "code",
      "metadata": {
        "colab": {
          "base_uri": "https://localhost:8080/"
        },
        "id": "JPpcDqVs9iTo",
        "outputId": "65b830c3-2f60-40e4-b866-800695cc685a"
      },
      "source": [
        "import fauzifcn\n",
        "\n",
        "ans = fauzifcn.f1(5)\n",
        "print(ans)"
      ],
      "execution_count": 25,
      "outputs": [
        {
          "output_type": "stream",
          "name": "stdout",
          "text": [
            "6\n"
          ]
        }
      ]
    },
    {
      "cell_type": "code",
      "metadata": {
        "colab": {
          "base_uri": "https://localhost:8080/"
        },
        "id": "dLfVZOtI-DZY",
        "outputId": "4c2dc9a6-81f7-4b63-8ff5-7db47cd6fe14"
      },
      "source": [
        "from fauzifcn import f1\n",
        "\n",
        "ans = f1(3)\n",
        "print(ans)"
      ],
      "execution_count": 27,
      "outputs": [
        {
          "output_type": "stream",
          "name": "stdout",
          "text": [
            "4\n"
          ]
        }
      ]
    },
    {
      "cell_type": "code",
      "metadata": {
        "colab": {
          "base_uri": "https://localhost:8080/"
        },
        "id": "o2o1c2ba_fJv",
        "outputId": "c7720abb-8eb9-4682-97cb-84a14b493ca8"
      },
      "source": [
        "class HondaC:\n",
        "  millage = 10000\n",
        "  engine = 2.0\n",
        "\n",
        "print(HondaC.engine)\n",
        "print(HondaC.millage)  "
      ],
      "execution_count": 30,
      "outputs": [
        {
          "output_type": "stream",
          "name": "stdout",
          "text": [
            "2.0\n",
            "10000\n"
          ]
        }
      ]
    },
    {
      "cell_type": "code",
      "metadata": {
        "colab": {
          "base_uri": "https://localhost:8080/"
        },
        "id": "ssd6QieTABuA",
        "outputId": "d7bd046f-6bd1-43b7-fe78-cbc7b3d3e90a"
      },
      "source": [
        "car1 = HondaC()\n",
        "\n",
        "print(car1.engine)\n",
        "car1.engine = 3.0\n",
        "print(car1.engine)\n",
        "\n",
        "print(HondaC.engine)  "
      ],
      "execution_count": 34,
      "outputs": [
        {
          "output_type": "stream",
          "name": "stdout",
          "text": [
            "2.0\n",
            "3.0\n",
            "2.0\n"
          ]
        }
      ]
    },
    {
      "cell_type": "code",
      "metadata": {
        "id": "QyjuISOCAqm3"
      },
      "source": [
        ""
      ],
      "execution_count": null,
      "outputs": []
    }
  ]
}