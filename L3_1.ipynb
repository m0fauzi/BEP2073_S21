{
  "nbformat": 4,
  "nbformat_minor": 0,
  "metadata": {
    "colab": {
      "name": "L3.1.ipynb",
      "provenance": [],
      "authorship_tag": "ABX9TyN9QnK38I1aD1CPp5nCT7Ic",
      "include_colab_link": true
    },
    "kernelspec": {
      "name": "python3",
      "display_name": "Python 3"
    },
    "language_info": {
      "name": "python"
    }
  },
  "cells": [
    {
      "cell_type": "markdown",
      "metadata": {
        "id": "view-in-github",
        "colab_type": "text"
      },
      "source": [
        "<a href=\"https://colab.research.google.com/github/m0fauzi/BEP2073_S21/blob/main/L3_1.ipynb\" target=\"_parent\"><img src=\"https://colab.research.google.com/assets/colab-badge.svg\" alt=\"Open In Colab\"/></a>"
      ]
    },
    {
      "cell_type": "code",
      "metadata": {
        "id": "v7-bqMToiZPH"
      },
      "source": [
        "a = 0;"
      ],
      "execution_count": 4,
      "outputs": []
    },
    {
      "cell_type": "code",
      "metadata": {
        "colab": {
          "base_uri": "https://localhost:8080/"
        },
        "id": "0SRdsixEkWs0",
        "outputId": "f4302f8b-da7a-4328-b5d4-a22b83ae6d0d"
      },
      "source": [
        "for i in range(3):\n",
        "  print(i)"
      ],
      "execution_count": 8,
      "outputs": [
        {
          "output_type": "stream",
          "name": "stdout",
          "text": [
            "0\n",
            "1\n",
            "2\n"
          ]
        }
      ]
    },
    {
      "cell_type": "code",
      "metadata": {
        "colab": {
          "base_uri": "https://localhost:8080/"
        },
        "id": "Wjc_zw4SknNb",
        "outputId": "ec4f95a6-2551-4322-e51e-2efda330846a"
      },
      "source": [
        "if a == 1:\n",
        "  print('True')\n",
        "else:\n",
        "  print('False')\n"
      ],
      "execution_count": 13,
      "outputs": [
        {
          "output_type": "stream",
          "name": "stdout",
          "text": [
            "False\n"
          ]
        }
      ]
    },
    {
      "cell_type": "code",
      "metadata": {
        "colab": {
          "base_uri": "https://localhost:8080/"
        },
        "id": "WQOGFqfAlhKU",
        "outputId": "9e42fc41-b936-4e14-aed2-315c0ecf3568"
      },
      "source": [
        "a,b,c = 1,2,3\n",
        "count = 0\n",
        "for i in range(1,b):\n",
        "  if i%c == 0:\n",
        "    count += 1\n",
        "print('count =', count)"
      ],
      "execution_count": 19,
      "outputs": [
        {
          "output_type": "stream",
          "name": "stdout",
          "text": [
            "count = 0\n"
          ]
        }
      ]
    },
    {
      "cell_type": "code",
      "metadata": {
        "colab": {
          "base_uri": "https://localhost:8080/"
        },
        "id": "tEqqcgJXnk3T",
        "outputId": "f920d2f6-2d2b-4ec8-c34e-51a16bf6118b"
      },
      "source": [
        "num = int(input('Enter a number = '))\n",
        "#num = 7\n",
        "\n",
        "if num > 1:\n",
        "  for i in range(2,num):\n",
        "    if num % i == 0:\n",
        "      print('%d is not a prime number' %num)\n",
        "      break\n",
        "  else:\n",
        "    print('%d is a prime number' %num)\n",
        "else:\n",
        "  print('%d is not a prime number' %num)"
      ],
      "execution_count": 22,
      "outputs": [
        {
          "output_type": "stream",
          "name": "stdout",
          "text": [
            "Enter a number = 7\n",
            "7 is a prime number\n"
          ]
        }
      ]
    },
    {
      "cell_type": "code",
      "metadata": {
        "id": "uOI88XbwqFHz"
      },
      "source": [
        "isSelected = False"
      ],
      "execution_count": 31,
      "outputs": []
    },
    {
      "cell_type": "code",
      "metadata": {
        "colab": {
          "base_uri": "https://localhost:8080/"
        },
        "id": "DGPA78rVpBz0",
        "outputId": "52a8e4b0-3a63-44b0-942e-9e567df883a7"
      },
      "source": [
        "#toggle application\n",
        "if isSelected:\n",
        "  print('Option 1')\n",
        "  isSelected = False\n",
        "else:\n",
        "  print('Option 2')\n",
        "  isSelected = True"
      ],
      "execution_count": 42,
      "outputs": [
        {
          "output_type": "stream",
          "name": "stdout",
          "text": [
            "Option 1\n"
          ]
        }
      ]
    },
    {
      "cell_type": "code",
      "metadata": {
        "id": "OU4nrBRDqcG1"
      },
      "source": [
        "x = []\n"
      ],
      "execution_count": 43,
      "outputs": []
    },
    {
      "cell_type": "code",
      "metadata": {
        "colab": {
          "base_uri": "https://localhost:8080/"
        },
        "id": "_1NR2OlTtJBa",
        "outputId": "98d7def6-d69e-499b-d7fe-1994ef686cb0"
      },
      "source": [
        "# Revision 1\n",
        "# What volume does 41.2 g of CO2 gas at a pressure of P atm and a temperature of 514 K occupy?. \n",
        "# Given: R = 0.08206 L (atm)/K (mol) \n",
        "Mw = 44.01\n",
        "m = 41.2\n",
        "P = 51\n",
        "R = 0.08206\n",
        "T = 514\n",
        "n = m/Mw\n",
        "V = n*R*T/P\n",
        "print('Volume = ',V)"
      ],
      "execution_count": 44,
      "outputs": [
        {
          "output_type": "stream",
          "name": "stdout",
          "text": [
            "Volume =  0.774230548315668\n"
          ]
        }
      ]
    },
    {
      "cell_type": "code",
      "metadata": {
        "colab": {
          "base_uri": "https://localhost:8080/"
        },
        "id": "SU9vOZTst1Wr",
        "outputId": "bad29682-21e1-484d-ca78-20154b947796"
      },
      "source": [
        "type(V)"
      ],
      "execution_count": 45,
      "outputs": [
        {
          "output_type": "execute_result",
          "data": {
            "text/plain": [
              "float"
            ]
          },
          "metadata": {},
          "execution_count": 45
        }
      ]
    },
    {
      "cell_type": "code",
      "metadata": {
        "colab": {
          "base_uri": "https://localhost:8080/"
        },
        "id": "_7zAT1NVuNiV",
        "outputId": "1a65ebb2-3419-4e6d-b1ef-2fed5cea627c"
      },
      "source": [
        "#List\n",
        "x = [1,2,3]\n",
        "y = ['a','b','c']\n",
        "print(type(x))"
      ],
      "execution_count": 52,
      "outputs": [
        {
          "output_type": "stream",
          "name": "stdout",
          "text": [
            "<class 'list'>\n"
          ]
        }
      ]
    },
    {
      "cell_type": "code",
      "metadata": {
        "colab": {
          "base_uri": "https://localhost:8080/",
          "height": 35
        },
        "id": "GHpHF2VZuwEq",
        "outputId": "4f498e81-d9db-4095-9207-fd5e076e132a"
      },
      "source": [
        "#Tuples\n",
        "x = (1,2,3)\n",
        "y = ('a','b','c')\n",
        "y[1]"
      ],
      "execution_count": 56,
      "outputs": [
        {
          "output_type": "execute_result",
          "data": {
            "application/vnd.google.colaboratory.intrinsic+json": {
              "type": "string"
            },
            "text/plain": [
              "'b'"
            ]
          },
          "metadata": {},
          "execution_count": 56
        }
      ]
    },
    {
      "cell_type": "code",
      "metadata": {
        "colab": {
          "base_uri": "https://localhost:8080/",
          "height": 35
        },
        "id": "II9lf_GrvC5i",
        "outputId": "9b128bc2-9cc0-4f50-ef2f-283f6bf23d15"
      },
      "source": [
        "x = 'abcd'\n",
        "x[1]"
      ],
      "execution_count": 59,
      "outputs": [
        {
          "output_type": "execute_result",
          "data": {
            "application/vnd.google.colaboratory.intrinsic+json": {
              "type": "string"
            },
            "text/plain": [
              "'b'"
            ]
          },
          "metadata": {},
          "execution_count": 59
        }
      ]
    },
    {
      "cell_type": "code",
      "metadata": {
        "colab": {
          "base_uri": "https://localhost:8080/"
        },
        "id": "WYVZY0H8vTOs",
        "outputId": "ad000f95-235f-440d-fb71-3e8c69323a93"
      },
      "source": [
        "y = ['a','b','c']\n",
        "for i in y:\n",
        "  if i == 'a':\n",
        "    print('Option b')\n",
        "    break\n",
        "else:\n",
        "  print('No option')\n"
      ],
      "execution_count": 65,
      "outputs": [
        {
          "output_type": "stream",
          "name": "stdout",
          "text": [
            "Option b\n"
          ]
        }
      ]
    },
    {
      "cell_type": "code",
      "metadata": {
        "colab": {
          "base_uri": "https://localhost:8080/"
        },
        "id": "7g-RIlrfv4Xr",
        "outputId": "565d7bd2-80ad-41aa-a813-a96448f7b031"
      },
      "source": [
        "y = ['a','b','c']\n",
        "for i in range(3):\n",
        "  print(y[i])"
      ],
      "execution_count": 68,
      "outputs": [
        {
          "output_type": "stream",
          "name": "stdout",
          "text": [
            "a\n",
            "b\n",
            "c\n"
          ]
        }
      ]
    },
    {
      "cell_type": "code",
      "metadata": {
        "colab": {
          "base_uri": "https://localhost:8080/"
        },
        "id": "cYGUa6cDwTZc",
        "outputId": "d3037c5f-8d1e-43da-e4da-5f799fd85a40"
      },
      "source": [
        "# Revision 1\n",
        "# What volume does 41.2 g of CO2 gas at a pressure \n",
        "# of P atm and a temperature of 514 K occupy?. \n",
        "# Given: R = 0.08206 L (atm)/K (mol) \n",
        "Mw = 44.01\n",
        "m = 41.2\n",
        "P = [51, 82, 22, 54, 71, 78, 48, 34, 48, 10]\n",
        "R = 0.08206\n",
        "T = 514\n",
        "n = m/Mw\n",
        "for i in P:\n",
        "  V = n*R*T/i\n",
        "  print('Volume at P = %d atm is %0.3f L' %(i,V))"
      ],
      "execution_count": 74,
      "outputs": [
        {
          "output_type": "stream",
          "name": "stdout",
          "text": [
            "Volume at P = 51 atm is 0.774 L\n",
            "Volume at P = 82 atm is 0.482 L\n",
            "Volume at P = 22 atm is 1.795 L\n",
            "Volume at P = 54 atm is 0.731 L\n",
            "Volume at P = 71 atm is 0.556 L\n",
            "Volume at P = 78 atm is 0.506 L\n",
            "Volume at P = 48 atm is 0.823 L\n",
            "Volume at P = 34 atm is 1.161 L\n",
            "Volume at P = 48 atm is 0.823 L\n",
            "Volume at P = 10 atm is 3.949 L\n"
          ]
        }
      ]
    },
    {
      "cell_type": "code",
      "metadata": {
        "colab": {
          "base_uri": "https://localhost:8080/"
        },
        "id": "Lv-WRMZgxiFi",
        "outputId": "e9358ac6-30cb-4f80-cdbc-66bf4e3362df"
      },
      "source": [
        "# Develop a program to determine DO \n",
        "# at T = 8 oC, 16 oC, and 32 oC\n",
        "\n",
        "T = [0, 8, 16, 24, 32, 40]\n",
        "DO = [14.621,\t11.843,\t9.87,\t8.47,\t7.305,\t6.413]\n",
        "\n",
        "for i in range(6):\n",
        "  if i == 1 or i == 2 or i == 4:\n",
        "    print('At T = %d C DO = %0.3f' %(T[i],DO[i]))\n",
        "    \n"
      ],
      "execution_count": 80,
      "outputs": [
        {
          "output_type": "stream",
          "name": "stdout",
          "text": [
            "At T = 8 C DO = 11.843\n",
            "At T = 16 C DO = 9.870\n",
            "At T = 32 C DO = 7.305\n"
          ]
        }
      ]
    },
    {
      "cell_type": "code",
      "metadata": {
        "colab": {
          "base_uri": "https://localhost:8080/"
        },
        "id": "J4AwsodbzYNS",
        "outputId": "1e8143cc-6839-42a0-8d84-ada730180182"
      },
      "source": [
        "x = [1,2,3,4]\n",
        "x[0]"
      ],
      "execution_count": 83,
      "outputs": [
        {
          "output_type": "execute_result",
          "data": {
            "text/plain": [
              "1"
            ]
          },
          "metadata": {},
          "execution_count": 83
        }
      ]
    },
    {
      "cell_type": "code",
      "metadata": {
        "colab": {
          "base_uri": "https://localhost:8080/",
          "height": 223
        },
        "id": "z0shJm5czdBr",
        "outputId": "25c1059d-1c57-437f-a3df-24fb12c3d651"
      },
      "source": [
        "x = {1,2,3,4}\n",
        "print(type(x))\n",
        "x[1]"
      ],
      "execution_count": 87,
      "outputs": [
        {
          "output_type": "stream",
          "name": "stdout",
          "text": [
            "<class 'set'>\n"
          ]
        },
        {
          "output_type": "error",
          "ename": "TypeError",
          "evalue": "ignored",
          "traceback": [
            "\u001b[0;31m---------------------------------------------------------------------------\u001b[0m",
            "\u001b[0;31mTypeError\u001b[0m                                 Traceback (most recent call last)",
            "\u001b[0;32m<ipython-input-87-f20514a4f27f>\u001b[0m in \u001b[0;36m<module>\u001b[0;34m()\u001b[0m\n\u001b[1;32m      1\u001b[0m \u001b[0mx\u001b[0m \u001b[0;34m=\u001b[0m \u001b[0;34m{\u001b[0m\u001b[0;36m1\u001b[0m\u001b[0;34m,\u001b[0m\u001b[0;36m2\u001b[0m\u001b[0;34m,\u001b[0m\u001b[0;36m3\u001b[0m\u001b[0;34m,\u001b[0m\u001b[0;36m4\u001b[0m\u001b[0;34m}\u001b[0m\u001b[0;34m\u001b[0m\u001b[0;34m\u001b[0m\u001b[0m\n\u001b[1;32m      2\u001b[0m \u001b[0mprint\u001b[0m\u001b[0;34m(\u001b[0m\u001b[0mtype\u001b[0m\u001b[0;34m(\u001b[0m\u001b[0mx\u001b[0m\u001b[0;34m)\u001b[0m\u001b[0;34m)\u001b[0m\u001b[0;34m\u001b[0m\u001b[0;34m\u001b[0m\u001b[0m\n\u001b[0;32m----> 3\u001b[0;31m \u001b[0mx\u001b[0m\u001b[0;34m[\u001b[0m\u001b[0;36m1\u001b[0m\u001b[0;34m]\u001b[0m\u001b[0;34m\u001b[0m\u001b[0;34m\u001b[0m\u001b[0m\n\u001b[0m",
            "\u001b[0;31mTypeError\u001b[0m: 'set' object is not subscriptable"
          ]
        }
      ]
    },
    {
      "cell_type": "code",
      "metadata": {
        "colab": {
          "base_uri": "https://localhost:8080/"
        },
        "id": "aErdNd2mzuc1",
        "outputId": "51732bf4-1b84-44b9-d6e8-c796ecde0df5"
      },
      "source": [
        "for i in x:\n",
        "  print(i)"
      ],
      "execution_count": 89,
      "outputs": [
        {
          "output_type": "stream",
          "name": "stdout",
          "text": [
            "1\n",
            "2\n",
            "3\n",
            "4\n"
          ]
        }
      ]
    },
    {
      "cell_type": "code",
      "metadata": {
        "colab": {
          "base_uri": "https://localhost:8080/"
        },
        "id": "-T1lpXLn0Cyh",
        "outputId": "d5685840-312e-4ae3-ba7a-d6538901c830"
      },
      "source": [
        "Car = {'Brand':\"Honda\",\"Year\":2021}\n",
        "type(Car)"
      ],
      "execution_count": 96,
      "outputs": [
        {
          "output_type": "execute_result",
          "data": {
            "text/plain": [
              "dict"
            ]
          },
          "metadata": {},
          "execution_count": 96
        }
      ]
    },
    {
      "cell_type": "code",
      "metadata": {
        "colab": {
          "base_uri": "https://localhost:8080/",
          "height": 35
        },
        "id": "YvNYUj6d0Vvq",
        "outputId": "fee196c7-2649-4848-9996-a8b85465e07f"
      },
      "source": [
        "Car[\"Brand\"]"
      ],
      "execution_count": 97,
      "outputs": [
        {
          "output_type": "execute_result",
          "data": {
            "application/vnd.google.colaboratory.intrinsic+json": {
              "type": "string"
            },
            "text/plain": [
              "'Honda'"
            ]
          },
          "metadata": {},
          "execution_count": 97
        }
      ]
    }
  ]
}