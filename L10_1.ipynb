{
  "nbformat": 4,
  "nbformat_minor": 0,
  "metadata": {
    "colab": {
      "name": "L10_1.ipynb",
      "provenance": [],
      "authorship_tag": "ABX9TyPvS0CV2PjN2wpTJMFUO0hO",
      "include_colab_link": true
    },
    "kernelspec": {
      "name": "python3",
      "display_name": "Python 3"
    },
    "language_info": {
      "name": "python"
    }
  },
  "cells": [
    {
      "cell_type": "markdown",
      "metadata": {
        "id": "view-in-github",
        "colab_type": "text"
      },
      "source": [
        "<a href=\"https://colab.research.google.com/github/m0fauzi/BEP2073_S21/blob/main/L10_1.ipynb\" target=\"_parent\"><img src=\"https://colab.research.google.com/assets/colab-badge.svg\" alt=\"Open In Colab\"/></a>"
      ]
    },
    {
      "cell_type": "code",
      "metadata": {
        "id": "KysF3GakBsoV"
      },
      "source": [
        "import pandas as pd\n",
        "import matplotlib.pyplot as plt\n",
        "import scipy.optimize as so\n",
        "import numpy as np\n",
        "\n",
        "Data = pd.read_csv(r'data7_1.csv')\n",
        "X = Data.x\n",
        "Y = Data.y\n",
        "\n",
        "\n",
        "'''\n",
        "\n",
        "\n",
        "a_sol, a_cov = so.curve_fit(f, X, Y)\n",
        "'''"
      ],
      "execution_count": null,
      "outputs": []
    },
    {
      "cell_type": "code",
      "metadata": {
        "colab": {
          "base_uri": "https://localhost:8080/",
          "height": 312
        },
        "id": "d4GvGnVrE1D4",
        "outputId": "5e5b1dfb-a786-43a3-ecec-c6b351536b45"
      },
      "source": [
        "plt.plot(X,Y,'.r')\n",
        "plt.xlabel('X')\n",
        "plt.ylabel('Y')\n",
        "plt.grid()\n",
        "plt.title('Get data from csv file by using Pandas')"
      ],
      "execution_count": 3,
      "outputs": [
        {
          "output_type": "execute_result",
          "data": {
            "text/plain": [
              "Text(0.5, 1.0, 'Get data from csv file by using Pandas')"
            ]
          },
          "metadata": {},
          "execution_count": 3
        },
        {
          "output_type": "display_data",
          "data": {
            "image/png": "[encoded data removed]",
            "text/plain": [
              "<Figure size 432x288 with 1 Axes>"
            ]
          },
          "metadata": {
            "needs_background": "light"
          }
        }
      ]
    },
    {
      "cell_type": "code",
      "metadata": {
        "id": "8Q1CBzUSFC14"
      },
      "source": [
        "def f(x,a1,a2,a3):\n",
        "    return a1*x + a2/x + a3*np.log(x)"
      ],
      "execution_count": 4,
      "outputs": []
    },
    {
      "cell_type": "code",
      "metadata": {
        "id": "UL96cARiFNmA"
      },
      "source": [
        "a_sol, a_cov = so.curve_fit(f, X, Y)"
      ],
      "execution_count": 5,
      "outputs": []
    },
    {
      "cell_type": "code",
      "metadata": {
        "colab": {
          "base_uri": "https://localhost:8080/"
        },
        "id": "KITS9CEGFcFv",
        "outputId": "5e4e821b-2be3-40a1-ce45-d9a0ed0b174f"
      },
      "source": [
        "print(a_sol)"
      ],
      "execution_count": 6,
      "outputs": [
        {
          "output_type": "stream",
          "name": "stdout",
          "text": [
            "[9.87537362 5.08640997 2.58182286]\n"
          ]
        }
      ]
    },
    {
      "cell_type": "code",
      "metadata": {
        "colab": {
          "base_uri": "https://localhost:8080/"
        },
        "id": "vpsQMlyxFmu7",
        "outputId": "14e72e5a-5241-4abf-c7d9-054d67bcf51d"
      },
      "source": [
        "print(a_cov)"
      ],
      "execution_count": 7,
      "outputs": [
        {
          "output_type": "stream",
          "name": "stdout",
          "text": [
            "[[ 3.48578775e-18 -3.67002247e-18 -9.68422163e-18]\n",
            " [-3.67002247e-18  4.24854667e-18  1.02134994e-17]\n",
            " [-9.68422163e-18  1.02134994e-17  2.72185752e-17]]\n"
          ]
        }
      ]
    },
    {
      "cell_type": "code",
      "metadata": {
        "colab": {
          "base_uri": "https://localhost:8080/",
          "height": 402
        },
        "id": "r2Qe66OkF-9K",
        "outputId": "0a3bd422-5512-4456-ed72-bcd84f6760e8"
      },
      "source": [
        "A1,A2,A3 = a_sol\n",
        "x = np.linspace(0,6,50)\n",
        "Y_pred = f(x,A1,A2,A3)\n",
        "\n",
        "plt.plot(x,Y_pred,'-k')\n",
        "plt.plot(X,Y,'.r')\n",
        "plt.xlabel('X')\n",
        "plt.ylabel('Y')\n",
        "plt.grid()"
      ],
      "execution_count": 11,
      "outputs": [
        {
          "output_type": "stream",
          "name": "stderr",
          "text": [
            "/usr/local/lib/python3.7/dist-packages/ipykernel_launcher.py:2: RuntimeWarning: divide by zero encountered in true_divide\n",
            "  \n",
            "/usr/local/lib/python3.7/dist-packages/ipykernel_launcher.py:2: RuntimeWarning: divide by zero encountered in log\n",
            "  \n",
            "/usr/local/lib/python3.7/dist-packages/ipykernel_launcher.py:2: RuntimeWarning: invalid value encountered in add\n",
            "  \n"
          ]
        },
        {
          "output_type": "display_data",
          "data": {
            "image/png": "[encoded data removed]",
            "text/plain": [
              "<Figure size 432x288 with 1 Axes>"
            ]
          },
          "metadata": {
            "needs_background": "light"
          }
        }
      ]
    },
    {
      "cell_type": "code",
      "metadata": {
        "id": "PwUMGg6PG5j-"
      },
      "source": [
        "plt.plot(Y_tru,Y_pred)"
      ],
      "execution_count": null,
      "outputs": []
    }
  ]
}