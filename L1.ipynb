{
  "nbformat": 4,
  "nbformat_minor": 0,
  "metadata": {
    "colab": {
      "name": "L1.ipynb",
      "provenance": [],
      "authorship_tag": "ABX9TyPRhUiGVCUoW0nfGeEr8Pxq",
      "include_colab_link": true
    },
    "kernelspec": {
      "name": "python3",
      "display_name": "Python 3"
    },
    "language_info": {
      "name": "python"
    }
  },
  "cells": [
    {
      "cell_type": "markdown",
      "metadata": {
        "id": "view-in-github",
        "colab_type": "text"
      },
      "source": [
        "<a href=\"https://colab.research.google.com/github/m0fauzi/BEP2073_S21/blob/main/L1.ipynb\" target=\"_parent\"><img src=\"https://colab.research.google.com/assets/colab-badge.svg\" alt=\"Open In Colab\"/></a>"
      ]
    },
    {
      "cell_type": "code",
      "metadata": {
        "id": "I7Qa6zoTims9"
      },
      "source": [
        "# Scalar\n",
        "a = 1\n",
        "b = 3\n",
        "\n",
        "# Non-scalar\n",
        "car = {'Proton','Audi','BMW'}\n",
        "M = [1, 6, 3.2, 41]"
      ],
      "execution_count": 21,
      "outputs": []
    },
    {
      "cell_type": "code",
      "metadata": {
        "colab": {
          "base_uri": "https://localhost:8080/"
        },
        "id": "FCx3O573npmJ",
        "outputId": "78b29792-265e-4af9-c7ca-9bca2c6087b6"
      },
      "source": [
        "print('hello')"
      ],
      "execution_count": 11,
      "outputs": [
        {
          "output_type": "stream",
          "name": "stdout",
          "text": [
            "hello\n"
          ]
        }
      ]
    },
    {
      "cell_type": "code",
      "metadata": {
        "colab": {
          "base_uri": "https://localhost:8080/"
        },
        "id": "ilccP4TRmhPX",
        "outputId": "fa77b1df-e48e-41e5-9ab8-43375e28e8b5"
      },
      "source": [
        "c = a + b\n",
        "d = 4/2\n",
        "print(d)\n",
        "print(c)"
      ],
      "execution_count": 13,
      "outputs": [
        {
          "output_type": "stream",
          "name": "stdout",
          "text": [
            "2.0\n",
            "4\n"
          ]
        }
      ]
    },
    {
      "cell_type": "code",
      "metadata": {
        "colab": {
          "base_uri": "https://localhost:8080/"
        },
        "id": "qxeyiFU2oqhE",
        "outputId": "0429e6a3-7535-47a5-e0e1-7daeba8124f3"
      },
      "source": [
        "radius = 2.2\n",
        "print(radius)\n",
        "radius = radius + 3\n",
        "print(radius)"
      ],
      "execution_count": 19,
      "outputs": [
        {
          "output_type": "stream",
          "name": "stdout",
          "text": [
            "2.2\n",
            "5.2\n"
          ]
        }
      ]
    },
    {
      "cell_type": "code",
      "metadata": {
        "colab": {
          "base_uri": "https://localhost:8080/"
        },
        "id": "YDX7eUIbpFyu",
        "outputId": "da0f2337-1743-4e9b-efe6-672fba267746"
      },
      "source": [
        "c = 2*b\n",
        "print(c)"
      ],
      "execution_count": 24,
      "outputs": [
        {
          "output_type": "stream",
          "name": "stdout",
          "text": [
            "6\n"
          ]
        }
      ]
    },
    {
      "cell_type": "code",
      "metadata": {
        "colab": {
          "base_uri": "https://localhost:8080/"
        },
        "id": "zquagLhqpg7r",
        "outputId": "1939cbbc-8e9b-42a8-d620-84a115fb7f6d"
      },
      "source": [
        "print('Hi..Welcome to BEP2073')"
      ],
      "execution_count": 25,
      "outputs": [
        {
          "output_type": "stream",
          "name": "stdout",
          "text": [
            "Hi..Welcome to BEP2073\n"
          ]
        }
      ]
    },
    {
      "cell_type": "code",
      "metadata": {
        "colab": {
          "base_uri": "https://localhost:8080/"
        },
        "id": "Z6_Umn8fpmgp",
        "outputId": "831c6539-f0f7-4aef-c0a7-76d6f0c3ba0d"
      },
      "source": [
        "print(\"Hi..Welcome to BEP2073\")"
      ],
      "execution_count": 26,
      "outputs": [
        {
          "output_type": "stream",
          "name": "stdout",
          "text": [
            "Hi..Welcome to BEP2073\n"
          ]
        }
      ]
    },
    {
      "cell_type": "code",
      "metadata": {
        "colab": {
          "base_uri": "https://localhost:8080/"
        },
        "id": "2xA8j9Nnpr7r",
        "outputId": "59034034-437f-408b-b6ff-f5c4ed430ff9"
      },
      "source": [
        "a,b = 1,2\n",
        "print(a)"
      ],
      "execution_count": 29,
      "outputs": [
        {
          "output_type": "stream",
          "name": "stdout",
          "text": [
            "1\n"
          ]
        }
      ]
    },
    {
      "cell_type": "code",
      "metadata": {
        "colab": {
          "base_uri": "https://localhost:8080/"
        },
        "id": "UuKtmBYKqUjX",
        "outputId": "62e37d67-495a-4323-e9ea-4d19b8beaee7"
      },
      "source": [
        "c = a + b\n",
        "print('C =',c)\n",
        "\n",
        "d = 4/2\n",
        "print('D = %0.1f' %d)"
      ],
      "execution_count": 35,
      "outputs": [
        {
          "output_type": "stream",
          "name": "stdout",
          "text": [
            "C = 3\n",
            "D = 2.0\n"
          ]
        }
      ]
    },
    {
      "cell_type": "code",
      "metadata": {
        "colab": {
          "base_uri": "https://localhost:8080/"
        },
        "id": "g6Wj4NBcrE_1",
        "outputId": "db368597-31d8-4c36-b99e-02680bb11b67"
      },
      "source": [
        "Name = input('Type your name: ')\n",
        "print('Welcome',Name)"
      ],
      "execution_count": 39,
      "outputs": [
        {
          "output_type": "stream",
          "name": "stdout",
          "text": [
            "Type your name: FAUZI\n",
            "Welcome FAUZI\n"
          ]
        }
      ]
    },
    {
      "cell_type": "code",
      "metadata": {
        "colab": {
          "base_uri": "https://localhost:8080/"
        },
        "id": "nfqGeS3grc3g",
        "outputId": "2cc98b58-e211-4efc-f347-89f2ded39d91"
      },
      "source": [
        "# y = 2x + 1\n",
        "x_val = input(\"Specify value of x:\")\n",
        "x = int(x_val) # to convert from string to int\n",
        "y = 2*x + 1\n",
        "print('y = ',y)"
      ],
      "execution_count": 42,
      "outputs": [
        {
          "output_type": "stream",
          "name": "stdout",
          "text": [
            "Specify value of x:3\n",
            "y =  7\n"
          ]
        }
      ]
    }
  ]
}