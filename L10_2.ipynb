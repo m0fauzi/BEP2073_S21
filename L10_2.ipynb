{
  "nbformat": 4,
  "nbformat_minor": 0,
  "metadata": {
    "colab": {
      "name": "L10_2.ipynb",
      "provenance": [],
      "authorship_tag": "ABX9TyN/9cPoT5M9YtaSJ63HTsFp",
      "include_colab_link": true
    },
    "kernelspec": {
      "name": "python3",
      "display_name": "Python 3"
    },
    "language_info": {
      "name": "python"
    }
  },
  "cells": [
    {
      "cell_type": "markdown",
      "metadata": {
        "id": "view-in-github",
        "colab_type": "text"
      },
      "source": [
        "<a href=\"https://colab.research.google.com/github/m0fauzi/BEP2073_S21/blob/main/L10_2.ipynb\" target=\"_parent\"><img src=\"https://colab.research.google.com/assets/colab-badge.svg\" alt=\"Open In Colab\"/></a>"
      ]
    },
    {
      "cell_type": "code",
      "metadata": {
        "id": "aMpLvWNyweQk"
      },
      "source": [
        "import pandas as pd\n",
        "import matplotlib.pyplot as plt"
      ],
      "execution_count": 48,
      "outputs": []
    },
    {
      "cell_type": "code",
      "metadata": {
        "colab": {
          "base_uri": "https://localhost:8080/"
        },
        "id": "049A9Dsbw1Xr",
        "outputId": "3e7cdeb7-402f-46c3-eb6e-4f8ce56dd1e6"
      },
      "source": [
        "data = pd.read_csv('data7_2.csv')\n",
        "\n",
        "T = data.Temp # input\n",
        "Cp = data.Cp # output\n",
        "print(Cp)"
      ],
      "execution_count": 49,
      "outputs": [
        {
          "output_type": "stream",
          "name": "stdout",
          "text": [
            "0      77.187063\n",
            "1      79.174469\n",
            "2      78.849294\n",
            "3      79.449926\n",
            "4      78.959510\n",
            "5      77.336236\n",
            "6      79.745630\n",
            "7      78.737339\n",
            "8      78.575859\n",
            "9      80.084740\n",
            "10     80.495992\n",
            "11     82.829978\n",
            "12     79.915945\n",
            "13     81.277604\n",
            "14     84.111181\n",
            "15     83.134292\n",
            "16     84.996517\n",
            "17     83.480256\n",
            "18     84.874895\n",
            "19     86.489850\n",
            "20     90.727327\n",
            "21     89.358931\n",
            "22     93.364160\n",
            "23     95.322977\n",
            "24     96.760091\n",
            "25     97.923656\n",
            "26    102.028511\n",
            "27    104.872874\n",
            "28    106.759962\n",
            "29    109.134538\n",
            "Name: Cp, dtype: float64\n"
          ]
        }
      ]
    },
    {
      "cell_type": "code",
      "metadata": {
        "colab": {
          "base_uri": "https://localhost:8080/",
          "height": 296
        },
        "id": "R6Z0YgzUxRyZ",
        "outputId": "d5d44e89-9e26-45b1-d17b-ce029382ef71"
      },
      "source": [
        "plt.plot(T,Cp,'g.')\n",
        "plt.xlabel('Temperature [K]')\n",
        "plt.ylabel('Heat Capacity [kJ/kg-mol.K]')"
      ],
      "execution_count": 50,
      "outputs": [
        {
          "output_type": "execute_result",
          "data": {
            "text/plain": [
              "Text(0, 0.5, 'Heat Capacity [kJ/kg-mol.K]')"
            ]
          },
          "metadata": {},
          "execution_count": 50
        },
        {
          "output_type": "display_data",
          "data": {
            "image/png": "[encoded data removed]",
            "text/plain": [
              "<Figure size 432x288 with 1 Axes>"
            ]
          },
          "metadata": {
            "needs_background": "light"
          }
        }
      ]
    },
    {
      "cell_type": "code",
      "metadata": {
        "colab": {
          "base_uri": "https://localhost:8080/"
        },
        "id": "q-2EQ_kzx5hS",
        "outputId": "d48c572d-a015-40ab-c375-c7c852779075"
      },
      "source": [
        "!pip install -U tensorflow-addons"
      ],
      "execution_count": 51,
      "outputs": [
        {
          "output_type": "stream",
          "name": "stdout",
          "text": [
            "Requirement already satisfied: tensorflow-addons in /usr/local/lib/python3.7/dist-packages (0.15.0)\n",
            "Requirement already satisfied: typeguard>=2.7 in /usr/local/lib/python3.7/dist-packages (from tensorflow-addons) (2.7.1)\n"
          ]
        }
      ]
    },
    {
      "cell_type": "code",
      "metadata": {
        "id": "TXQnU5YYxw7L"
      },
      "source": [
        "# AI & ML\n",
        "import tensorflow as tf\n",
        "from tensorflow import keras\n",
        "from tensorflow.keras import layers\n"
      ],
      "execution_count": 52,
      "outputs": []
    },
    {
      "cell_type": "code",
      "metadata": {
        "id": "YivfoTZPzJrK"
      },
      "source": [
        "# Create ANN structure\n",
        "model = keras.Sequential([\n",
        "                          layers.Dense(10,activation='relu'),\n",
        "                          layers.Dense(10,activation='relu'),\n",
        "                          layers.Dense(20,activation='relu'),\n",
        "                          layers.Dense(1,activation='relu')])\n",
        "\n",
        "# Train Model\n",
        "model.compile(loss=\"mean_absolute_error\",optimizer=keras.optimizers.Adam(learning_rate=0.01))\n",
        "\n",
        "input = T\n",
        "output = Cp\n",
        "\n",
        "trn_Hist = model.fit(input,output,epochs=500)"
      ],
      "execution_count": null,
      "outputs": []
    },
    {
      "cell_type": "code",
      "metadata": {
        "colab": {
          "base_uri": "https://localhost:8080/",
          "height": 282
        },
        "id": "vkinkrxv12Q4",
        "outputId": "1db705e0-b27b-42ae-e659-90c7301a44c0"
      },
      "source": [
        "# Train performance\n",
        "plt.plot(trn_Hist.history['loss'],label='loss')"
      ],
      "execution_count": 60,
      "outputs": [
        {
          "output_type": "execute_result",
          "data": {
            "text/plain": [
              "[<matplotlib.lines.Line2D at 0x7fd4152171d0>]"
            ]
          },
          "metadata": {},
          "execution_count": 60
        },
        {
          "output_type": "display_data",
          "data": {
            "image/png": "[encoded data removed]",
            "text/plain": [
              "<Figure size 432x288 with 1 Axes>"
            ]
          },
          "metadata": {
            "needs_background": "light"
          }
        }
      ]
    },
    {
      "cell_type": "code",
      "metadata": {
        "id": "8JY-XdBx3nX5"
      },
      "source": [
        "#training variables, weight\n",
        "print(model.weights)"
      ],
      "execution_count": null,
      "outputs": []
    },
    {
      "cell_type": "code",
      "metadata": {
        "id": "ZzmXwa3S4TPJ"
      },
      "source": [
        "# Evaluate\n",
        "\n",
        "# Evaluate Multi Model\n",
        "Cp_hat = model.predict(T).flatten()\n"
      ],
      "execution_count": 62,
      "outputs": []
    },
    {
      "cell_type": "code",
      "metadata": {
        "colab": {
          "base_uri": "https://localhost:8080/",
          "height": 296
        },
        "id": "lSUbjK-P48jI",
        "outputId": "6b5d97e3-ba07-418e-d8af-cb075daf975c"
      },
      "source": [
        "plt.plot(T,Cp,'g.') # data from experiment\n",
        "plt.plot(T,Cp_hat,'r-') # data from ANN\n",
        "plt.xlabel('Temperature [K]')\n",
        "plt.ylabel('Heat Capacity [kJ/kg-mol.K]')"
      ],
      "execution_count": 63,
      "outputs": [
        {
          "output_type": "execute_result",
          "data": {
            "text/plain": [
              "Text(0, 0.5, 'Heat Capacity [kJ/kg-mol.K]')"
            ]
          },
          "metadata": {},
          "execution_count": 63
        },
        {
          "output_type": "display_data",
          "data": {
            "image/png": "[encoded data removed]",
            "text/plain": [
              "<Figure size 432x288 with 1 Axes>"
            ]
          },
          "metadata": {
            "needs_background": "light"
          }
        }
      ]
    },
    {
      "cell_type": "code",
      "metadata": {
        "colab": {
          "base_uri": "https://localhost:8080/"
        },
        "id": "nJc0vjkg5Na4",
        "outputId": "139edaf6-ad8b-45b4-ebac-725ee374a3f4"
      },
      "source": [
        "print(Cp_hat)"
      ],
      "execution_count": 58,
      "outputs": [
        {
          "output_type": "stream",
          "name": "stdout",
          "text": [
            "[0. 0. 0. 0. 0. 0. 0. 0. 0. 0. 0. 0. 0. 0. 0. 0. 0. 0. 0. 0. 0. 0. 0. 0.\n",
            " 0. 0. 0. 0. 0. 0.]\n"
          ]
        }
      ]
    }
  ]
}