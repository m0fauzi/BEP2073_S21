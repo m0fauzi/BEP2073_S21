{
  "nbformat": 4,
  "nbformat_minor": 0,
  "metadata": {
    "colab": {
      "name": "L9_1.ipynb",
      "provenance": [],
      "authorship_tag": "ABX9TyOJPkBuYSbuQ0tiClmUgD35",
      "include_colab_link": true
    },
    "kernelspec": {
      "name": "python3",
      "display_name": "Python 3"
    },
    "language_info": {
      "name": "python"
    }
  },
  "cells": [
    {
      "cell_type": "markdown",
      "metadata": {
        "id": "view-in-github",
        "colab_type": "text"
      },
      "source": [
        "<a href=\"https://colab.research.google.com/github/m0fauzi/BEP2073_S21/blob/main/L9_1.ipynb\" target=\"_parent\"><img src=\"https://colab.research.google.com/assets/colab-badge.svg\" alt=\"Open In Colab\"/></a>"
      ]
    },
    {
      "cell_type": "code",
      "metadata": {
        "colab": {
          "base_uri": "https://localhost:8080/"
        },
        "id": "8o1t9dI601XT",
        "outputId": "c7225dd2-bc7d-4e13-8970-df8caa499eeb"
      },
      "source": [
        "a = 100\n",
        "b = int(input('b = '))\n",
        "try:\n",
        "  ans = a/b\n",
        "  print(ans)  \n",
        "except ZeroDivisionError as e:\n",
        "  print('Error: ',e) \n"
      ],
      "execution_count": 9,
      "outputs": [
        {
          "output_type": "stream",
          "name": "stdout",
          "text": [
            "b = 0\n",
            "Error:  division by zero\n"
          ]
        }
      ]
    },
    {
      "cell_type": "code",
      "metadata": {
        "colab": {
          "base_uri": "https://localhost:8080/"
        },
        "id": "0yn2cN7k2Uag",
        "outputId": "e9b3d942-f1ec-4bb7-8db5-05cd16e97266"
      },
      "source": [
        "# Find the sum of all even numbers from 2 to 12\n",
        "\n",
        "x = [2,3,4,5,6,7,8,9,10,11,12]\n",
        "\n",
        "sum = 0\n",
        "for i in x:\n",
        "  if(i%2==0):\n",
        "    sum = sum + i\n",
        "\n",
        "print(sum)  \n"
      ],
      "execution_count": 20,
      "outputs": [
        {
          "output_type": "stream",
          "name": "stdout",
          "text": [
            "42\n",
            "even\n",
            "42\n"
          ]
        }
      ]
    },
    {
      "cell_type": "code",
      "metadata": {
        "colab": {
          "base_uri": "https://localhost:8080/"
        },
        "id": "bQ9ACqYS4-0A",
        "outputId": "239234da-359d-4ce7-a68c-bbbea8418de1"
      },
      "source": [
        "# Find the sum of all even numbers from a to b\n",
        "\n",
        "a = int(input('a = '))\n",
        "b = int(input('b = '))\n",
        "\n",
        "x = range(a,b+1)\n",
        "\n",
        "sum = 0\n",
        "for i in x:\n",
        "  if(i%2==0):\n",
        "    sum = sum + i\n",
        "ans = (a,b,sum)\n",
        "print('Sum of all even number between %d to %d is %d'%ans)  "
      ],
      "execution_count": 38,
      "outputs": [
        {
          "output_type": "stream",
          "name": "stdout",
          "text": [
            "a = 30\n",
            "b = 3\n",
            "Sum of all even number between 30 to 3 is 0\n"
          ]
        }
      ]
    },
    {
      "cell_type": "code",
      "metadata": {
        "colab": {
          "base_uri": "https://localhost:8080/"
        },
        "id": "C_NlVXQ69bxe",
        "outputId": "9d57b4bf-1ae6-4c22-c16e-0b060e839502"
      },
      "source": [
        "Data = pd.read_csv('Data1a.csv')\n",
        "print(len(Data))\n"
      ],
      "execution_count": 57,
      "outputs": [
        {
          "output_type": "stream",
          "name": "stdout",
          "text": [
            "700\n"
          ]
        }
      ]
    },
    {
      "cell_type": "code",
      "metadata": {
        "colab": {
          "base_uri": "https://localhost:8080/"
        },
        "id": "CPx4-zzu8hQn",
        "outputId": "b8eca947-18f1-4aac-987a-0d842b62fc46"
      },
      "source": [
        "# Find the total of all even numbers from Data1.csv\n",
        "import pandas as pd\n",
        "\n",
        "Data = pd.read_csv('Data1a.csv')\n",
        "\n",
        "sum = 0\n",
        "for i in range(len(Data+1)):\n",
        "  if(Data.x[i]%2 == 0):\n",
        "    sum = sum + i\n",
        "\n",
        "print(sum)  \n"
      ],
      "execution_count": 59,
      "outputs": [
        {
          "output_type": "stream",
          "name": "stdout",
          "text": [
            "112952\n"
          ]
        }
      ]
    },
    {
      "cell_type": "code",
      "metadata": {
        "colab": {
          "base_uri": "https://localhost:8080/",
          "height": 522
        },
        "id": "ifE-hkfq_a1_",
        "outputId": "1f447083-5cb6-4d34-be1b-656573e6ccc0"
      },
      "source": [
        "import pandas as pd\n",
        "import numpy as np\n",
        "import matplotlib.pyplot as plt\n",
        "\n",
        "Data2 = pd.read_csv('Data2.csv')\n",
        "\n",
        "def fun(x,y):\n",
        "  return 2*np.sin(x) + 3*np.cos(y)\n",
        "\n",
        "z = fun(Data2.x,Data2.y)\n",
        "print(z)\n",
        "\n",
        "idx = int(input('i = '))\n",
        "print(z[idx])\n",
        "\n",
        "plt.plot(Data2.x,Data2.y,'k.')\n",
        "plt.plot(Data2.x[idx],Data2.y[idx],'rs')\n"
      ],
      "execution_count": 69,
      "outputs": [
        {
          "output_type": "stream",
          "name": "stdout",
          "text": [
            "0      1.944946\n",
            "1      3.165617\n",
            "2      2.388251\n",
            "3      4.342507\n",
            "4      2.369206\n",
            "         ...   \n",
            "258    3.107030\n",
            "259    3.569042\n",
            "260    3.235038\n",
            "261    2.234380\n",
            "262    4.095411\n",
            "Length: 263, dtype: float64\n",
            "i = 100\n",
            "4.232783268499036\n"
          ]
        },
        {
          "output_type": "execute_result",
          "data": {
            "text/plain": [
              "[<matplotlib.lines.Line2D at 0x7f077de918d0>]"
            ]
          },
          "metadata": {},
          "execution_count": 69
        },
        {
          "output_type": "display_data",
          "data": {
            "image/png": "[encoded data removed]",
            "text/plain": [
              "<Figure size 432x288 with 1 Axes>"
            ]
          },
          "metadata": {
            "needs_background": "light"
          }
        }
      ]
    }
  ]
}