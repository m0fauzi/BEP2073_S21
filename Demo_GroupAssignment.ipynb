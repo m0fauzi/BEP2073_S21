{
  "nbformat": 4,
  "nbformat_minor": 0,
  "metadata": {
    "colab": {
      "name": "Demo_GroupAssignment.ipynb",
      "provenance": [],
      "authorship_tag": "ABX9TyPqVwsgMYHZmhKcml7DDh07",
      "include_colab_link": true
    },
    "kernelspec": {
      "name": "python3",
      "display_name": "Python 3"
    },
    "language_info": {
      "name": "python"
    }
  },
  "cells": [
    {
      "cell_type": "markdown",
      "metadata": {
        "id": "view-in-github",
        "colab_type": "text"
      },
      "source": [
        "<a href=\"https://colab.research.google.com/github/m0fauzi/BEP2073_S21/blob/main/Demo_GroupAssignment.ipynb\" target=\"_parent\"><img src=\"https://colab.research.google.com/assets/colab-badge.svg\" alt=\"Open In Colab\"/></a>"
      ]
    },
    {
      "cell_type": "code",
      "metadata": {
        "colab": {
          "base_uri": "https://localhost:8080/"
        },
        "id": "_5Xq8xBeZ8jD",
        "outputId": "96cea5f7-4b7b-400d-ca05-89a17e9bcac5"
      },
      "source": [
        "print('hello')"
      ],
      "execution_count": 1,
      "outputs": [
        {
          "output_type": "stream",
          "name": "stdout",
          "text": [
            "hello\n"
          ]
        }
      ]
    },
    {
      "cell_type": "code",
      "metadata": {
        "colab": {
          "base_uri": "https://localhost:8080/",
          "height": 1000
        },
        "id": "cJa4KfOBe55l",
        "outputId": "c90ed83a-4a35-4e75-f53f-6269c6699f74"
      },
      "source": [
        "run 'Main program'"
      ],
      "execution_count": 3,
      "outputs": [
        {
          "name": "stdout",
          "output_type": "stream",
          "text": [
            "\n",
            "Welcome to this program.\n",
            "\n",
            "=============================================== Input ================================================\n",
            "          \n",
            "Enter the number of choice in the input below:\n",
            "           \n",
            "             Distillate, Bottom Flow Rates, Heating and Cooling Loads (D, B, QR and QC) --- [1]\n",
            "             \n",
            "             Bubble Point at Feed Condition                                             --- [2]\n",
            "             \n",
            "             Number of Equilibrium Stages                                               --- [3]\n",
            "             \n",
            "             Press [x] to terminate the program.\n",
            "Please Enter your choice: 1\n",
            "=============================================== Output ===============================================\n",
            "\n",
            "Here are the chemicals we provided:\n",
            "          \n",
            "             n-Butane      --- [a]\n",
            "             n-Pentane     --- [b]\n",
            "             n-Heptane     --- [c]\n",
            "             n-Hexane      --- [d]\n",
            "             n-Octane      --- [e]\n",
            "Input first chemical  : a\n",
            "Input second chemical : b\n",
            "Please enter feed flow rate in lbmol/hr (must be positive value): 1000\n",
            "Input composition of first chemical (between 0 to 1): 0.8\n",
            "Input feed temperature in Celcius (from 10 to 500 Celcius): 250\n",
            "Input external reflux ratio (must be positive value): 1.5\n",
            "Input desired distillate composition (between 0 to 1) : 0.90\n",
            "Input composition of partial reboiler (between 0 to 1): 0.95\n",
            "\n",
            "------------------------- Final Answers -------------------------\n",
            "\n",
            "Distillate Flow Rates, D  = 882.3529411764705 lbmoles/hr\n",
            "\n",
            "Bottoms Flow Rates, B     = 117.64705882352945 lbmoles/hr\n",
            "\n",
            "Cooling Loads, Qc = 21598776.83823529 Btu/hr\n",
            "\n",
            "Heating Loads, QR = 5326111.878529408 Btu/hr\n",
            "\n",
            "======================================================================================================\n",
            "=============================================== Input ================================================\n",
            "          \n",
            "Enter the number of choice in the input below:\n",
            "           \n",
            "             Distillate, Bottom Flow Rates, Heating and Cooling Loads (D, B, QR and QC) --- [1]\n",
            "             \n",
            "             Bubble Point at Feed Condition                                             --- [2]\n",
            "             \n",
            "             Number of Equilibrium Stages                                               --- [3]\n",
            "             \n",
            "             Press [x] to terminate the program.\n",
            "Please Enter your choice: 3\n",
            "=============================================== Output ===============================================\n",
            "\n",
            "Here are the chemicals we provided:\n",
            "          \n",
            "             n-Butane      --- [a]\n",
            "             n-Pentane     --- [b]\n",
            "             n-Heptane     --- [c]\n",
            "             n-Hexane      --- [d]\n",
            "             n-Octane      --- [e]\n",
            "Input first chemical  : a\n",
            "Input second chemical : b\n",
            "Input pressure in kPa (from 10 to 5000kPa) : 200\n",
            "Input composition of first chemical (between 0 to 1): 0.8\n",
            "Input feed temperature in Celcius (from 10 to 500 Celcius): 300\n",
            "Input external reflux ratio (must be positive value): 1.6\n",
            "Input desired distillate composition (between 0 to 1): 0.98\n",
            "Input composition of partial reboiler (between 0 to 1): 0.95\n"
          ]
        },
        {
          "output_type": "display_data",
          "data": {
            "image/png": "[encoded data removed]",
            "text/plain": [
              "<Figure size 432x288 with 1 Axes>"
            ]
          },
          "metadata": {
            "needs_background": "light"
          }
        },
        {
          "output_type": "stream",
          "name": "stdout",
          "text": [
            "\n",
            "------------------------- Final Answers -------------------------\n",
            "\n",
            "Number of equilibrium stages = 8\n",
            "\n",
            "======================================================================================================\n",
            "=============================================== Input ================================================\n",
            "          \n",
            "Enter the number of choice in the input below:\n",
            "           \n",
            "             Distillate, Bottom Flow Rates, Heating and Cooling Loads (D, B, QR and QC) --- [1]\n",
            "             \n",
            "             Bubble Point at Feed Condition                                             --- [2]\n",
            "             \n",
            "             Number of Equilibrium Stages                                               --- [3]\n",
            "             \n",
            "             Press [x] to terminate the program.\n",
            "Please Enter your choice: 5\n",
            "\n",
            "================================== Invalid input. Please try again! ==================================\n",
            "\n",
            "=============================================== Input ================================================\n",
            "          \n",
            "Enter the number of choice in the input below:\n",
            "           \n",
            "             Distillate, Bottom Flow Rates, Heating and Cooling Loads (D, B, QR and QC) --- [1]\n",
            "             \n",
            "             Bubble Point at Feed Condition                                             --- [2]\n",
            "             \n",
            "             Number of Equilibrium Stages                                               --- [3]\n",
            "             \n",
            "             Press [x] to terminate the program.\n",
            "Please Enter your choice: a\n",
            "\n",
            "================================== Invalid input. Please try again! ==================================\n",
            "\n",
            "=============================================== Input ================================================\n",
            "          \n",
            "Enter the number of choice in the input below:\n",
            "           \n",
            "             Distillate, Bottom Flow Rates, Heating and Cooling Loads (D, B, QR and QC) --- [1]\n",
            "             \n",
            "             Bubble Point at Feed Condition                                             --- [2]\n",
            "             \n",
            "             Number of Equilibrium Stages                                               --- [3]\n",
            "             \n",
            "             Press [x] to terminate the program.\n",
            "Please Enter your choice: 11\n",
            "\n",
            "================================== Invalid input. Please try again! ==================================\n",
            "\n",
            "=============================================== Input ================================================\n",
            "          \n",
            "Enter the number of choice in the input below:\n",
            "           \n",
            "             Distillate, Bottom Flow Rates, Heating and Cooling Loads (D, B, QR and QC) --- [1]\n",
            "             \n",
            "             Bubble Point at Feed Condition                                             --- [2]\n",
            "             \n",
            "             Number of Equilibrium Stages                                               --- [3]\n",
            "             \n",
            "             Press [x] to terminate the program.\n",
            "Please Enter your choice: x\n",
            "\n",
            "Thank you for using this program.\n",
            "\n",
            "======================================================================================================\n"
          ]
        }
      ]
    },
    {
      "cell_type": "code",
      "metadata": {
        "id": "K3cVUa83aI-F"
      },
      "source": [
        "print('bye')"
      ],
      "execution_count": null,
      "outputs": []
    }
  ]
}