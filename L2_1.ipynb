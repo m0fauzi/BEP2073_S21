{
  "nbformat": 4,
  "nbformat_minor": 0,
  "metadata": {
    "colab": {
      "name": "L2.1.ipynb",
      "provenance": [],
      "authorship_tag": "ABX9TyMo5gaaM6rQ3SYUoiGXTCb9",
      "include_colab_link": true
    },
    "kernelspec": {
      "name": "python3",
      "display_name": "Python 3"
    },
    "language_info": {
      "name": "python"
    }
  },
  "cells": [
    {
      "cell_type": "markdown",
      "metadata": {
        "id": "view-in-github",
        "colab_type": "text"
      },
      "source": [
        "<a href=\"https://colab.research.google.com/github/m0fauzi/BEP2073_S21/blob/main/L2_1.ipynb\" target=\"_parent\"><img src=\"https://colab.research.google.com/assets/colab-badge.svg\" alt=\"Open In Colab\"/></a>"
      ]
    },
    {
      "cell_type": "code",
      "metadata": {
        "colab": {
          "base_uri": "https://localhost:8080/"
        },
        "id": "11HkDs9Ofvem",
        "outputId": "e7d2829d-e65a-4d97-e927-08e862b16350"
      },
      "source": [
        "a = 2\n",
        "x = 3*a + 2\n",
        "y = x**0.15\n",
        "print('The answer is',y)"
      ],
      "execution_count": 5,
      "outputs": [
        {
          "output_type": "stream",
          "name": "stdout",
          "text": [
            "The answer is 1.3660402567543954\n"
          ]
        }
      ]
    },
    {
      "cell_type": "code",
      "metadata": {
        "colab": {
          "base_uri": "https://localhost:8080/"
        },
        "id": "l2KeyDzGnVpf",
        "outputId": "afb9644c-efac-4986-a24d-a79d93eb802a"
      },
      "source": [
        "x = 2\n",
        "y = 3\n",
        "x != y"
      ],
      "execution_count": 6,
      "outputs": [
        {
          "output_type": "execute_result",
          "data": {
            "text/plain": [
              "True"
            ]
          },
          "metadata": {},
          "execution_count": 6
        }
      ]
    },
    {
      "cell_type": "code",
      "metadata": {
        "colab": {
          "base_uri": "https://localhost:8080/"
        },
        "id": "wdw_fJ5Ynk-s",
        "outputId": "5a11ca8a-a382-4c56-c7e0-6968533034b6"
      },
      "source": [
        "x = 3\n",
        "y = 2\n",
        "x <= y"
      ],
      "execution_count": 9,
      "outputs": [
        {
          "output_type": "execute_result",
          "data": {
            "text/plain": [
              "False"
            ]
          },
          "metadata": {},
          "execution_count": 9
        }
      ]
    },
    {
      "cell_type": "code",
      "metadata": {
        "colab": {
          "base_uri": "https://localhost:8080/"
        },
        "id": "Rk95cJMqn5c1",
        "outputId": "0462b5e1-960a-4356-9206-4d87dbd187aa"
      },
      "source": [
        "x = 6\n",
        "x < 5 and x < 10\n"
      ],
      "execution_count": 12,
      "outputs": [
        {
          "output_type": "execute_result",
          "data": {
            "text/plain": [
              "False"
            ]
          },
          "metadata": {},
          "execution_count": 12
        }
      ]
    },
    {
      "cell_type": "code",
      "metadata": {
        "colab": {
          "base_uri": "https://localhost:8080/"
        },
        "id": "zXz-3JnOoRQQ",
        "outputId": "aa27d08f-0e91-4b2e-a33d-ef92d29aef7a"
      },
      "source": [
        "x += 1\n",
        "x"
      ],
      "execution_count": 30,
      "outputs": [
        {
          "output_type": "execute_result",
          "data": {
            "text/plain": [
              "24"
            ]
          },
          "metadata": {},
          "execution_count": 30
        }
      ]
    },
    {
      "cell_type": "code",
      "metadata": {
        "colab": {
          "base_uri": "https://localhost:8080/"
        },
        "id": "KlghTiwDpgSG",
        "outputId": "28b0e9bf-c929-41a9-d170-d5a5db732e23"
      },
      "source": [
        "a = int(input('a = '))\n",
        "b = int(input('b = '))\n",
        "if b > a:\n",
        "  c = a + b\n",
        "  print(\"b is greater than a\")\n",
        "else:\n",
        "  c = a - b\n",
        "  print(\"a is greater than b\")\n",
        "c\n"
      ],
      "execution_count": 38,
      "outputs": [
        {
          "output_type": "stream",
          "name": "stdout",
          "text": [
            "a = 2\n",
            "b = 6\n",
            "b is greater than a\n"
          ]
        },
        {
          "output_type": "execute_result",
          "data": {
            "text/plain": [
              "8"
            ]
          },
          "metadata": {},
          "execution_count": 38
        }
      ]
    },
    {
      "cell_type": "code",
      "metadata": {
        "colab": {
          "base_uri": "https://localhost:8080/"
        },
        "id": "yD2-qFVYtaYO",
        "outputId": "73b4d88b-1c2f-457c-8f89-609b790a01bf"
      },
      "source": [
        "a = 33\n",
        "b = 330\n",
        "if b > a:\n",
        "  print(\"b is greater than a\")\n",
        "elif a == b:\n",
        "  print(\"a and b are equal\")\n"
      ],
      "execution_count": 40,
      "outputs": [
        {
          "output_type": "stream",
          "name": "stdout",
          "text": [
            "b is greater than a\n"
          ]
        }
      ]
    },
    {
      "cell_type": "code",
      "metadata": {
        "id": "qJcsoVgguURe"
      },
      "source": [
        "a = 200\n",
        "b = 330\n",
        "c = 500\n",
        "if a > b and c > a:\n",
        "  print(\"Both conditions are True\")"
      ],
      "execution_count": 42,
      "outputs": []
    },
    {
      "cell_type": "code",
      "metadata": {
        "colab": {
          "base_uri": "https://localhost:8080/"
        },
        "id": "vTVhS7rzv5S-",
        "outputId": "8f85a00b-f68e-40c2-a246-407387aad5c7"
      },
      "source": [
        "count = 1\n",
        "for i in range(3):\n",
        "  print('iter: %d => Count %d' %(i,count))\n",
        "  count = count + 1\n",
        "print('Final count is ',count)\n"
      ],
      "execution_count": 47,
      "outputs": [
        {
          "output_type": "stream",
          "name": "stdout",
          "text": [
            "iter: 0 => Count 1\n",
            "iter: 1 => Count 2\n",
            "iter: 2 => Count 3\n",
            "Final count is  4\n"
          ]
        }
      ]
    },
    {
      "cell_type": "code",
      "metadata": {
        "colab": {
          "base_uri": "https://localhost:8080/"
        },
        "id": "zUw7Tkesw42l",
        "outputId": "22495811-be2c-4299-c969-5269ea05d12b"
      },
      "source": [
        "M = [\"apple\", \"banana\", \"cherry\"]\n",
        "len(M)"
      ],
      "execution_count": 48,
      "outputs": [
        {
          "output_type": "execute_result",
          "data": {
            "text/plain": [
              "3"
            ]
          },
          "metadata": {},
          "execution_count": 48
        }
      ]
    },
    {
      "cell_type": "code",
      "metadata": {
        "colab": {
          "base_uri": "https://localhost:8080/"
        },
        "id": "CVJ_xNdfxjQb",
        "outputId": "079baf3c-0fd7-44d0-f270-dd1a389e1f41"
      },
      "source": [
        "count = 1\n",
        "i = 0\n",
        "while i < 3:\n",
        "  count = count + 1\n",
        "  i = i + 1\n",
        "print(count)\n"
      ],
      "execution_count": 49,
      "outputs": [
        {
          "output_type": "stream",
          "name": "stdout",
          "text": [
            "4\n"
          ]
        }
      ]
    }
  ]
}