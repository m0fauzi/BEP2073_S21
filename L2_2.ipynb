{
  "nbformat": 4,
  "nbformat_minor": 0,
  "metadata": {
    "colab": {
      "name": "L2.2.ipynb",
      "provenance": [],
      "authorship_tag": "ABX9TyP6E7x+ZFFj+0+dFSg9+ETf",
      "include_colab_link": true
    },
    "kernelspec": {
      "name": "python3",
      "display_name": "Python 3"
    },
    "language_info": {
      "name": "python"
    }
  },
  "cells": [
    {
      "cell_type": "markdown",
      "metadata": {
        "id": "view-in-github",
        "colab_type": "text"
      },
      "source": [
        "<a href=\"https://colab.research.google.com/github/m0fauzi/BEP2073_S21/blob/main/L2_2.ipynb\" target=\"_parent\"><img src=\"https://colab.research.google.com/assets/colab-badge.svg\" alt=\"Open In Colab\"/></a>"
      ]
    },
    {
      "cell_type": "code",
      "metadata": {
        "colab": {
          "base_uri": "https://localhost:8080/"
        },
        "id": "I90Rm9lqUxiC",
        "outputId": "99c1bb9f-e12e-40e8-9801-a017b38daddc"
      },
      "source": [
        "2%2"
      ],
      "execution_count": 3,
      "outputs": [
        {
          "output_type": "execute_result",
          "data": {
            "text/plain": [
              "0"
            ]
          },
          "metadata": {},
          "execution_count": 3
        }
      ]
    },
    {
      "cell_type": "code",
      "metadata": {
        "colab": {
          "base_uri": "https://localhost:8080/"
        },
        "id": "X-GRPoW1UHq_",
        "outputId": "685f8d47-7f68-4fbc-9fb9-a6b6691d4742"
      },
      "source": [
        "'''\n",
        "QUESTION 1: Write a python program to find the \n",
        "            sum of all even numbers from 0 to 10\n",
        "START\n",
        "INITIALISE Ans to 0\n",
        "ITERATION i less than 11\n",
        "    IF i is even number\n",
        "        CALCULATE Ans of i\n",
        "DISPLAY Ans\n",
        "END\n",
        "'''\n",
        "Ans = 0\n",
        "for i in range(11):\n",
        "  if i%2 == 0:\n",
        "    # Even number\n",
        "    Ans = Ans + i\n",
        "print('Sum of all even number from 0 to 10 is',Ans)\n"
      ],
      "execution_count": 7,
      "outputs": [
        {
          "output_type": "stream",
          "name": "stdout",
          "text": [
            "Sum of all even number from 0 to 10 is 30\n"
          ]
        }
      ]
    },
    {
      "cell_type": "code",
      "metadata": {
        "colab": {
          "base_uri": "https://localhost:8080/"
        },
        "id": "ejhIW7M5X3Ao",
        "outputId": "5d016032-faac-4d99-a102-490c52c40e42"
      },
      "source": [
        "ans = 2 + 4 + 6 + 8 + 10\n",
        "print(ans)"
      ],
      "execution_count": 8,
      "outputs": [
        {
          "output_type": "stream",
          "name": "stdout",
          "text": [
            "30\n"
          ]
        }
      ]
    },
    {
      "cell_type": "code",
      "metadata": {
        "colab": {
          "base_uri": "https://localhost:8080/"
        },
        "id": "KPLIJuWyZqW5",
        "outputId": "1d462af9-8ea6-413d-fa5f-84509209235e"
      },
      "source": [
        "'''\n",
        "QUESTION 2: Write a python program to read three numbers\n",
        "            (a, b, c) and check how many numbers between \n",
        "            ‘a’ and ‘b’ are divisible by ‘c’\n",
        "# Limit\n",
        "# Consider a, b & c are integer number\n",
        "# Let a < b\n",
        "# Divisible operation will be resulting 0 remain\n",
        "  \n",
        "START\n",
        "READ INPUT a, b, and c\n",
        "INITIALISE count to 0\n",
        "ITERATION in between a & b\n",
        "    IF i/c IS divisible\n",
        "        INCREASE count by 1\n",
        "DISPLAY count\n",
        "END\n",
        "'''\n",
        "#a,b,c = 1,5,2\n",
        "a = int(input('a = '))\n",
        "b = int(input('b = '))\n",
        "c = int(input('c = '))\n",
        "count = 0\n",
        "for i in range(a,b+1):\n",
        "  if i%c == 0:\n",
        "    count += 1\n",
        "print('Numbers between %d and %d are divisible by %d is %d' %(a,b,c,count))"
      ],
      "execution_count": 15,
      "outputs": [
        {
          "output_type": "stream",
          "name": "stdout",
          "text": [
            "a = 0\n",
            "b = 15\n",
            "c = 2\n",
            "Numbers between 0 and 15 are divisible by 2 is 8\n"
          ]
        }
      ]
    },
    {
      "cell_type": "code",
      "metadata": {
        "colab": {
          "base_uri": "https://localhost:8080/"
        },
        "id": "b0ZamTvqi5HY",
        "outputId": "fadc0ff2-d39c-4bd5-fabe-7b9ff74008c1"
      },
      "source": [
        "'''\n",
        "QUESTION 3: Write a python program to check given number is prime or not\n",
        "\n",
        "START\n",
        "DEFINE num\n",
        "IF num more than 1\n",
        "   ITERATION i from 2 to num\n",
        "      IF num/i IS divisible\n",
        "         PRINT “num is not prime number”\n",
        "         BREAK\n",
        "   ELSE\n",
        "      PRINT “num is prime number”\n",
        "ELSE\n",
        "   PRINT “num is not prime number”\n",
        "END\n",
        "'''\n",
        "\n",
        "num = 7\n",
        "if num > 1:\n",
        "  for i in range(2,num):\n",
        "    if num%i == 0:\n",
        "      print('%d is not prime number' %num)\n",
        "      print('because %d devide %d give 0 remainder'%(num,i))\n",
        "\n",
        "      break\n",
        "  else:\n",
        "    print('%d is prime number' %num) #none of i divide by num is evenly (remain = 0)\n",
        "else:\n",
        "  print('%d is not prime number' %num)\n",
        "  print('because %d less than 0'%num)\n"
      ],
      "execution_count": 28,
      "outputs": [
        {
          "output_type": "stream",
          "name": "stdout",
          "text": [
            "7 is prime number\n"
          ]
        }
      ]
    }
  ]
}