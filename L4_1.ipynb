{
  "nbformat": 4,
  "nbformat_minor": 0,
  "metadata": {
    "colab": {
      "name": "L5.1.ipynb",
      "provenance": [],
      "authorship_tag": "ABX9TyN0VX9H9730IUTbV8olpAXR",
      "include_colab_link": true
    },
    "kernelspec": {
      "name": "python3",
      "display_name": "Python 3"
    },
    "language_info": {
      "name": "python"
    }
  },
  "cells": [
    {
      "cell_type": "markdown",
      "metadata": {
        "id": "view-in-github",
        "colab_type": "text"
      },
      "source": [
        "<a href=\"https://colab.research.google.com/github/m0fauzi/BEP2073_S21/blob/main/L4_1.ipynb\" target=\"_parent\"><img src=\"https://colab.research.google.com/assets/colab-badge.svg\" alt=\"Open In Colab\"/></a>"
      ]
    },
    {
      "cell_type": "code",
      "metadata": {
        "colab": {
          "base_uri": "https://localhost:8080/"
        },
        "id": "38FufzqkeeS0",
        "outputId": "df450cec-ba98-4577-e29e-16de7caf0952"
      },
      "source": [
        "T = [0,8,16,24,32,40]\n",
        "DO = [14.621,11.843,9.87,8.47,7.305,6.413]\n",
        "\n",
        "x = 26 #float(input(''))\n",
        "\n",
        "for i in range(len(T)-1):\n",
        "  if(x>T[i] and x<T[i+1]):\n",
        "    print('Do Interpolation')\n",
        "    print('Point A = ',i)\n",
        "    print('Point B = ',i+1)\n",
        "    #Calculate interpolation\n",
        "\n",
        "    break\n",
        "  else:\n",
        "    print('Look another region')\n"
      ],
      "execution_count": 15,
      "outputs": [
        {
          "output_type": "stream",
          "name": "stdout",
          "text": [
            "Look another region\n",
            "Look another region\n",
            "Look another region\n",
            "Do Interpolation\n",
            "Point A =  3\n",
            "Point B =  4\n"
          ]
        }
      ]
    },
    {
      "cell_type": "code",
      "metadata": {
        "colab": {
          "base_uri": "https://localhost:8080/"
        },
        "id": "vOCr7_XRfKYE",
        "outputId": "3d392984-2bc7-46a2-eb1b-992c226139a6"
      },
      "source": [
        "T = [0,8,16,24,32,40]\n",
        "len(T)"
      ],
      "execution_count": 6,
      "outputs": [
        {
          "output_type": "execute_result",
          "data": {
            "text/plain": [
              "6"
            ]
          },
          "metadata": {},
          "execution_count": 6
        }
      ]
    },
    {
      "cell_type": "code",
      "metadata": {
        "colab": {
          "base_uri": "https://localhost:8080/"
        },
        "id": "1a6D-J2tlI8g",
        "outputId": "ccfd0a68-3ccc-4e91-832f-ea7b2576a471"
      },
      "source": [
        "import math as m\n",
        "x = 2.35\n",
        "y = 5*m.cos(2*x)\n",
        "print(y)"
      ],
      "execution_count": 21,
      "outputs": [
        {
          "output_type": "stream",
          "name": "stdout",
          "text": [
            "-0.0619433173144528\n"
          ]
        }
      ]
    },
    {
      "cell_type": "code",
      "metadata": {
        "colab": {
          "base_uri": "https://localhost:8080/"
        },
        "id": "b0bx6SFvmP-m",
        "outputId": "7f750832-f819-4df4-fe92-166476683037"
      },
      "source": [
        "x = [1,2,3,4]\n",
        "for i in x:\n",
        "  y = 2*i\n",
        "  print(y)"
      ],
      "execution_count": 27,
      "outputs": [
        {
          "output_type": "stream",
          "name": "stdout",
          "text": [
            "2\n",
            "4\n",
            "6\n",
            "8\n"
          ]
        }
      ]
    },
    {
      "cell_type": "code",
      "metadata": {
        "colab": {
          "base_uri": "https://localhost:8080/"
        },
        "id": "uwA2PWKUmgrf",
        "outputId": "a8746e0b-4f10-4e89-ea04-5ad0363a505b"
      },
      "source": [
        "import numpy as np\n",
        "\n",
        "x = numpy.array([1,2,3])\n",
        "y = 2*x\n",
        "print(y)"
      ],
      "execution_count": 30,
      "outputs": [
        {
          "output_type": "stream",
          "name": "stdout",
          "text": [
            "[2 4 6]\n"
          ]
        }
      ]
    },
    {
      "cell_type": "code",
      "metadata": {
        "colab": {
          "base_uri": "https://localhost:8080/"
        },
        "id": "GLSAJZjWn0WV",
        "outputId": "3a5ac840-bd05-4f4e-d9f3-5d8072c7fb49"
      },
      "source": [
        "# time from 0 to 20 min with interval of 1 sec\n",
        "t = np.linspace(1,20,20)\n",
        "print(t)"
      ],
      "execution_count": 36,
      "outputs": [
        {
          "output_type": "stream",
          "name": "stdout",
          "text": [
            "[ 1.  2.  3.  4.  5.  6.  7.  8.  9. 10. 11. 12. 13. 14. 15. 16. 17. 18.\n",
            " 19. 20.]\n"
          ]
        }
      ]
    },
    {
      "cell_type": "code",
      "metadata": {
        "colab": {
          "base_uri": "https://localhost:8080/",
          "height": 282
        },
        "id": "kHQ7ImrPo5PV",
        "outputId": "aa384208-15fe-4a8e-af2c-1e101e8c3b34"
      },
      "source": [
        "import matplotlib.pyplot as plt\n",
        "import numpy as np\n",
        "#x = 0 to 10\n",
        "#y = x^2\n",
        "\n",
        "x = np.linspace(0,10,1000)\n",
        "y = np.power(x,2)\n",
        "\n",
        "plt.plot(x,y,'-r')\n"
      ],
      "execution_count": 43,
      "outputs": [
        {
          "output_type": "execute_result",
          "data": {
            "text/plain": [
              "[<matplotlib.lines.Line2D at 0x7fd525180a50>]"
            ]
          },
          "metadata": {},
          "execution_count": 43
        },
        {
          "output_type": "display_data",
          "data": {
            "image/png": "[encoded data removed]",
            "text/plain": [
              "<Figure size 432x288 with 1 Axes>"
            ]
          },
          "metadata": {
            "needs_background": "light"
          }
        }
      ]
    }
  ]
}