{
  "nbformat": 4,
  "nbformat_minor": 0,
  "metadata": {
    "colab": {
      "name": "L3.2.ipynb",
      "provenance": [],
      "authorship_tag": "ABX9TyOiji4wUDrknhqkVaU9Zzzd",
      "include_colab_link": true
    },
    "kernelspec": {
      "name": "python3",
      "display_name": "Python 3"
    },
    "language_info": {
      "name": "python"
    }
  },
  "cells": [
    {
      "cell_type": "markdown",
      "metadata": {
        "id": "view-in-github",
        "colab_type": "text"
      },
      "source": [
        "<a href=\"https://colab.research.google.com/github/m0fauzi/BEP2073_S21/blob/main/L3_2.ipynb\" target=\"_parent\"><img src=\"https://colab.research.google.com/assets/colab-badge.svg\" alt=\"Open In Colab\"/></a>"
      ]
    },
    {
      "cell_type": "code",
      "metadata": {
        "colab": {
          "base_uri": "https://localhost:8080/",
          "height": 52
        },
        "id": "JHJdIrK7UH6G",
        "outputId": "3a4843f4-f0a3-41c5-f400-698b95d225b0"
      },
      "source": [
        "msg = 'Hello'\n",
        "print(type(msg))\n",
        "msg[1]"
      ],
      "execution_count": 8,
      "outputs": [
        {
          "output_type": "stream",
          "name": "stdout",
          "text": [
            "<class 'str'>\n"
          ]
        },
        {
          "output_type": "execute_result",
          "data": {
            "application/vnd.google.colaboratory.intrinsic+json": {
              "type": "string"
            },
            "text/plain": [
              "'e'"
            ]
          },
          "metadata": {},
          "execution_count": 8
        }
      ]
    },
    {
      "cell_type": "code",
      "metadata": {
        "colab": {
          "base_uri": "https://localhost:8080/",
          "height": 201
        },
        "id": "Yn7xUWeXUesI",
        "outputId": "5f4f6b3f-bee1-496f-85fd-db1bd820e0d7"
      },
      "source": [
        "#Scalar\n",
        "i = 0\n",
        "type(i)\n",
        "# i[0] TypeError: 'int' object is not subscriptable <== i is scalar object"
      ],
      "execution_count": 6,
      "outputs": [
        {
          "output_type": "error",
          "ename": "TypeError",
          "evalue": "ignored",
          "traceback": [
            "\u001b[0;31m---------------------------------------------------------------------------\u001b[0m",
            "\u001b[0;31mTypeError\u001b[0m                                 Traceback (most recent call last)",
            "\u001b[0;32m<ipython-input-6-6815e16aed44>\u001b[0m in \u001b[0;36m<module>\u001b[0;34m()\u001b[0m\n\u001b[1;32m      2\u001b[0m \u001b[0mi\u001b[0m \u001b[0;34m=\u001b[0m \u001b[0;36m0\u001b[0m\u001b[0;34m\u001b[0m\u001b[0;34m\u001b[0m\u001b[0m\n\u001b[1;32m      3\u001b[0m \u001b[0mtype\u001b[0m\u001b[0;34m(\u001b[0m\u001b[0mi\u001b[0m\u001b[0;34m)\u001b[0m\u001b[0;34m\u001b[0m\u001b[0;34m\u001b[0m\u001b[0m\n\u001b[0;32m----> 4\u001b[0;31m \u001b[0mi\u001b[0m\u001b[0;34m[\u001b[0m\u001b[0;36m0\u001b[0m\u001b[0;34m]\u001b[0m\u001b[0;34m\u001b[0m\u001b[0;34m\u001b[0m\u001b[0m\n\u001b[0m",
            "\u001b[0;31mTypeError\u001b[0m: 'int' object is not subscriptable"
          ]
        }
      ]
    },
    {
      "cell_type": "code",
      "metadata": {
        "colab": {
          "base_uri": "https://localhost:8080/"
        },
        "id": "kBrA2H66VbXg",
        "outputId": "8fc8e7b8-11b3-4cb4-d4b7-b4a10d947c6b"
      },
      "source": [
        "x = [1, 2, 3, 4]\n",
        "x[1]"
      ],
      "execution_count": 12,
      "outputs": [
        {
          "output_type": "execute_result",
          "data": {
            "text/plain": [
              "2"
            ]
          },
          "metadata": {},
          "execution_count": 12
        }
      ]
    },
    {
      "cell_type": "code",
      "metadata": {
        "colab": {
          "base_uri": "https://localhost:8080/"
        },
        "id": "4RKKgealalHt",
        "outputId": "f4df2c26-4c60-4778-bbbe-f4d031dcaa87"
      },
      "source": [
        "T = [0,8,16,24,32,40]\n",
        "DO = [14.621,11.843,9.870,8.470,7.305,6.413]\n",
        "\n",
        "x = 26\n",
        "x = int(input('Specify T = '))\n",
        "\n",
        "x1,x2 = T[3],T[4]\n",
        "y1,y2 = DO[3], DO[4]\n",
        "\n",
        "y = (y1*(x2-x)+y2*(x-x1))/(x2-x1)\n",
        "y"
      ],
      "execution_count": 18,
      "outputs": [
        {
          "output_type": "execute_result",
          "data": {
            "text/plain": [
              "8.17875"
            ]
          },
          "metadata": {},
          "execution_count": 18
        }
      ]
    },
    {
      "cell_type": "code",
      "metadata": {
        "colab": {
          "base_uri": "https://localhost:8080/"
        },
        "id": "gwTyRCSIhK5U",
        "outputId": "26295333-58f2-4887-b786-5ee2fd85e4cb"
      },
      "source": [
        "n = [0.035, 0.020,0.015,0.030,0.022]\n",
        "S = [0.0001,0.0002,0.001,0.007,0.003]\n",
        "B = [10, 8, 20, 24, 15]\n",
        "H = [2, 1, 1.5, 3, 2.5]\n",
        "Ch = ['A','B','C','D','E']\n",
        "\n",
        "#Challenge\n",
        "opt = input('Specify Channel = ') # Only apply for captial letter \n",
        "i = Ch.index(opt) \n",
        "U = S[i]**0.5/n[i]*(B[i]*H[i]/(B[i]+2*H[i]))**(2/3)\n",
        "print('For Channel %s, U = %0.3f'%(opt,U))"
      ],
      "execution_count": 31,
      "outputs": [
        {
          "output_type": "stream",
          "name": "stdout",
          "text": [
            "Specify Channel = B\n",
            "For Channel B, U = 0.609\n"
          ]
        }
      ]
    }
  ]
}