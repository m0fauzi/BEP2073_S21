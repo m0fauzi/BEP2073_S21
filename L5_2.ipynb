{
  "nbformat": 4,
  "nbformat_minor": 0,
  "metadata": {
    "colab": {
      "name": "L5_2.ipynb",
      "provenance": [],
      "authorship_tag": "ABX9TyPskt2FndVFOaU0OxQyx0Lq",
      "include_colab_link": true
    },
    "kernelspec": {
      "name": "python3",
      "display_name": "Python 3"
    },
    "language_info": {
      "name": "python"
    }
  },
  "cells": [
    {
      "cell_type": "markdown",
      "metadata": {
        "id": "view-in-github",
        "colab_type": "text"
      },
      "source": [
        "<a href=\"https://colab.research.google.com/github/m0fauzi/BEP2073_S21/blob/main/L5_2.ipynb\" target=\"_parent\"><img src=\"https://colab.research.google.com/assets/colab-badge.svg\" alt=\"Open In Colab\"/></a>"
      ]
    },
    {
      "cell_type": "code",
      "metadata": {
        "colab": {
          "base_uri": "https://localhost:8080/"
        },
        "id": "mTchwq9Rg4eo",
        "outputId": "eacdf722-3fdb-442f-b49e-d4476ad9fe21"
      },
      "source": [
        "#Solver\n",
        "import module_ex1 as m1\n",
        "\n",
        "case = int(input('Specify case [1] or [2]: '))\n",
        "\n",
        "if (case ==1):\n",
        "  #Case 1\n",
        "  m,P,T = 32,50,325\n",
        "else:\n",
        "  #Case 2\n",
        "  m,P,T = 25,70,450\n",
        "  \n",
        "ans = m1.V(m,P,T)\n",
        "print(ans) # customise\n"
      ],
      "execution_count": 3,
      "outputs": [
        {
          "output_type": "stream",
          "name": "stdout",
          "text": [
            "Specify case [1] or [2]: 2\n",
            "0.007252777777777777\n"
          ]
        }
      ]
    },
    {
      "cell_type": "code",
      "metadata": {
        "colab": {
          "base_uri": "https://localhost:8080/",
          "height": 282
        },
        "id": "JufKWzH4lkVb",
        "outputId": "6a5afcad-3b3b-463e-ef24-4c6d1306c864"
      },
      "source": [
        "def f(x):\n",
        "  return 3*x**2 + 1\n",
        "\n",
        "import numpy as np\n",
        "\n",
        "x = np.linspace(1,50,50)\n",
        "y = f(x)\n",
        "\n",
        "import matplotlib.pyplot as plt\n",
        "\n",
        "plt.plot(x,y)\n",
        "\n"
      ],
      "execution_count": 4,
      "outputs": [
        {
          "output_type": "execute_result",
          "data": {
            "text/plain": [
              "[<matplotlib.lines.Line2D at 0x7ff938f13b50>]"
            ]
          },
          "metadata": {},
          "execution_count": 4
        },
        {
          "output_type": "display_data",
          "data": {
            "image/png": "[encoded data removed]",
            "text/plain": [
              "<Figure size 432x288 with 1 Axes>"
            ]
          },
          "metadata": {
            "needs_background": "light"
          }
        }
      ]
    },
    {
      "cell_type": "code",
      "metadata": {
        "colab": {
          "base_uri": "https://localhost:8080/",
          "height": 282
        },
        "id": "vOFhsYmLor20",
        "outputId": "47e7ec73-4c46-455a-d2f9-60937b14a32c"
      },
      "source": [
        "#Exercise 2\n",
        "import numpy as np\n",
        "import matplotlib.pyplot as plt\n",
        "import module_ex1 as m1\n",
        "\n",
        "#Case1\n",
        "m = np.linspace(10,30,30) \n",
        "V = m1.V(m,P = 50,T = 325)\n",
        "plt.plot(m,V)\n",
        "\n",
        "#Case2\n",
        "P = np.linspace(...) \n",
        "V = m1.V(m = 25,T,P)\n",
        "plt.plot(...,V)\n",
        "\n",
        "#Case3\n",
        "T = np.linspace(...) \n",
        "V = m1.V(T = 325,m = 25, P)\n",
        "plt.plot(...,V)"
      ],
      "execution_count": 5,
      "outputs": [
        {
          "output_type": "execute_result",
          "data": {
            "text/plain": [
              "[<matplotlib.lines.Line2D at 0x7ff9388c25d0>]"
            ]
          },
          "metadata": {},
          "execution_count": 5
        },
        {
          "output_type": "display_data",
          "data": {
            "image/png": "[encoded data removed]",
            "text/plain": [
              "<Figure size 432x288 with 1 Axes>"
            ]
          },
          "metadata": {
            "needs_background": "light"
          }
        }
      ]
    },
    {
      "cell_type": "code",
      "metadata": {
        "colab": {
          "base_uri": "https://localhost:8080/"
        },
        "id": "qgGLV-slsngq",
        "outputId": "910b5d5d-a089-4e1a-8692-0602eb178097"
      },
      "source": [
        "# Func\n",
        "def sum(a,b):\n",
        "  return a + b\n",
        "\n",
        "def deviation(a,b):\n",
        "  return a/b\n",
        "\n",
        "#Invoke\n",
        "ans1 = sum(3,6) # Output: 9\n",
        "ans2 = deviation(9,3) # Output: 3\n",
        "print(ans1)\n",
        "print(ans2) "
      ],
      "execution_count": 6,
      "outputs": [
        {
          "output_type": "stream",
          "name": "stdout",
          "text": [
            "9\n",
            "3.0\n"
          ]
        }
      ]
    },
    {
      "cell_type": "code",
      "metadata": {
        "colab": {
          "base_uri": "https://localhost:8080/"
        },
        "id": "U4wWfWoxtIf5",
        "outputId": "68fb959e-06d8-4d2a-c0d9-40ef7452ffb7"
      },
      "source": [
        "# Class\n",
        "class MathOp:\n",
        "  def __init__(self, a = 0, b = 0): # default is 0\n",
        "        self._a = a\n",
        "        self._b = b\n",
        "\n",
        "  pi = 22/7\n",
        "\n",
        "  def sum(self):\n",
        "    return self._a + self._b\n",
        "\n",
        "  def deviation(self):\n",
        "    return self._a/self._b\n",
        "\n",
        "#Invoke\n",
        "m = MathOp(3,6) # instance object, m\n",
        "ans1 = m.sum()\n",
        "print(ans1)\n",
        "ans2 = m.deviation()\n",
        "print(ans2)"
      ],
      "execution_count": 15,
      "outputs": [
        {
          "output_type": "stream",
          "name": "stdout",
          "text": [
            "9\n",
            "0.5\n"
          ]
        }
      ]
    },
    {
      "cell_type": "code",
      "metadata": {
        "colab": {
          "base_uri": "https://localhost:8080/"
        },
        "id": "PGJS4U_WwNY_",
        "outputId": "f6d1fd34-590a-4bf0-da12-ac846e00dc2d"
      },
      "source": [
        "\n",
        "class Student():\n",
        "\n",
        "  def __init__(self):\n",
        "    self.StudentList = []\n",
        "   \n",
        "  def addStudent(self,name): \n",
        "    self.StudentList.append(name)\n",
        "\n",
        "  def display(self):\n",
        "    print(self.StudentList)\n",
        "\n",
        "Obj = Student()\n",
        "\n",
        "\n",
        "\n",
        "while(True):\n",
        "  print('MENU')\n",
        "  print('1 - Data Entry')\n",
        "  print('2 - Exit')\n",
        "  Opt = int(input('Option [1] or [2]: '))\n",
        "  \n",
        "  if(Opt == 1):\n",
        "    #add student\n",
        "    name = input('Name: ')\n",
        "    Obj.addStudent(name)\n",
        "  elif(Opt == 2):\n",
        "    #break\n",
        "    break\n",
        "  else:\n",
        "    print('wrong selection')\n",
        "\n",
        "Obj.display()"
      ],
      "execution_count": 36,
      "outputs": [
        {
          "output_type": "stream",
          "name": "stdout",
          "text": [
            "MENU\n",
            "1 - Data Entry\n",
            "2 - Exit\n",
            "Option [1] or [2]: 1\n",
            "Name: John\n",
            "MENU\n",
            "1 - Data Entry\n",
            "2 - Exit\n",
            "Option [1] or [2]: 1\n",
            "Name: Jack\n",
            "MENU\n",
            "1 - Data Entry\n",
            "2 - Exit\n",
            "Option [1] or [2]: 2\n",
            "['John', 'Jack']\n"
          ]
        }
      ]
    }
  ]
}